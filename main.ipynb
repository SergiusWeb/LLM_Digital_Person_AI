{
 "cells": [
  {
   "cell_type": "code",
   "outputs": [
    {
     "name": "stdout",
     "output_type": "stream",
     "text": [
      "Requirement already satisfied: deep-translator in ./venv/lib/python3.10/site-packages (1.11.4)\r\n",
      "Requirement already satisfied: scikit-learn in ./venv/lib/python3.10/site-packages (1.5.1)\r\n",
      "Requirement already satisfied: keras in ./venv/lib/python3.10/site-packages (3.4.1)\r\n",
      "Requirement already satisfied: beautifulsoup4<5.0.0,>=4.9.1 in ./venv/lib/python3.10/site-packages (from deep-translator) (4.12.3)\r\n",
      "Requirement already satisfied: requests<3.0.0,>=2.23.0 in ./venv/lib/python3.10/site-packages (from deep-translator) (2.32.3)\r\n",
      "Requirement already satisfied: numpy>=1.19.5 in ./venv/lib/python3.10/site-packages (from scikit-learn) (1.26.4)\r\n",
      "Requirement already satisfied: scipy>=1.6.0 in ./venv/lib/python3.10/site-packages (from scikit-learn) (1.14.0)\r\n",
      "Requirement already satisfied: joblib>=1.2.0 in ./venv/lib/python3.10/site-packages (from scikit-learn) (1.4.2)\r\n",
      "Requirement already satisfied: threadpoolctl>=3.1.0 in ./venv/lib/python3.10/site-packages (from scikit-learn) (3.5.0)\r\n",
      "Requirement already satisfied: absl-py in ./venv/lib/python3.10/site-packages (from keras) (2.1.0)\r\n",
      "Requirement already satisfied: rich in ./venv/lib/python3.10/site-packages (from keras) (13.7.1)\r\n",
      "Requirement already satisfied: namex in ./venv/lib/python3.10/site-packages (from keras) (0.0.8)\r\n",
      "Requirement already satisfied: h5py in ./venv/lib/python3.10/site-packages (from keras) (3.11.0)\r\n",
      "Requirement already satisfied: optree in ./venv/lib/python3.10/site-packages (from keras) (0.12.1)\r\n",
      "Requirement already satisfied: ml-dtypes in ./venv/lib/python3.10/site-packages (from keras) (0.4.0)\r\n",
      "Requirement already satisfied: packaging in ./venv/lib/python3.10/site-packages (from keras) (24.1)\r\n",
      "Requirement already satisfied: soupsieve>1.2 in ./venv/lib/python3.10/site-packages (from beautifulsoup4<5.0.0,>=4.9.1->deep-translator) (2.5)\r\n",
      "Requirement already satisfied: charset-normalizer<4,>=2 in ./venv/lib/python3.10/site-packages (from requests<3.0.0,>=2.23.0->deep-translator) (3.3.2)\r\n",
      "Requirement already satisfied: idna<4,>=2.5 in ./venv/lib/python3.10/site-packages (from requests<3.0.0,>=2.23.0->deep-translator) (3.7)\r\n",
      "Requirement already satisfied: urllib3<3,>=1.21.1 in ./venv/lib/python3.10/site-packages (from requests<3.0.0,>=2.23.0->deep-translator) (2.2.2)\r\n",
      "Requirement already satisfied: certifi>=2017.4.17 in ./venv/lib/python3.10/site-packages (from requests<3.0.0,>=2.23.0->deep-translator) (2024.7.4)\r\n",
      "Requirement already satisfied: typing-extensions>=4.5.0 in ./venv/lib/python3.10/site-packages (from optree->keras) (4.12.2)\r\n",
      "Requirement already satisfied: markdown-it-py>=2.2.0 in ./venv/lib/python3.10/site-packages (from rich->keras) (3.0.0)\r\n",
      "Requirement already satisfied: pygments<3.0.0,>=2.13.0 in ./venv/lib/python3.10/site-packages (from rich->keras) (2.18.0)\r\n",
      "Requirement already satisfied: mdurl~=0.1 in ./venv/lib/python3.10/site-packages (from markdown-it-py>=2.2.0->rich->keras) (0.1.2)\r\n",
      "\r\n",
      "\u001B[1m[\u001B[0m\u001B[34;49mnotice\u001B[0m\u001B[1;39;49m]\u001B[0m\u001B[39;49m A new release of pip is available: \u001B[0m\u001B[31;49m23.2.1\u001B[0m\u001B[39;49m -> \u001B[0m\u001B[32;49m24.1.2\u001B[0m\r\n",
      "\u001B[1m[\u001B[0m\u001B[34;49mnotice\u001B[0m\u001B[1;39;49m]\u001B[0m\u001B[39;49m To update, run: \u001B[0m\u001B[32;49mpip install --upgrade pip\u001B[0m\r\n",
      "Requirement already satisfied: pandas in ./venv/lib/python3.10/site-packages (2.2.2)\r\n",
      "Requirement already satisfied: tiktoken in ./venv/lib/python3.10/site-packages (0.7.0)\r\n",
      "Requirement already satisfied: huggingface_hub in ./venv/lib/python3.10/site-packages (0.24.0)\r\n",
      "Requirement already satisfied: streamlit in ./venv/lib/python3.10/site-packages (1.36.0)\r\n",
      "Requirement already satisfied: nltk in ./venv/lib/python3.10/site-packages (3.8.1)\r\n",
      "Requirement already satisfied: matplotlib in ./venv/lib/python3.10/site-packages (3.9.1)\r\n",
      "Requirement already satisfied: seaborn in ./venv/lib/python3.10/site-packages (0.13.2)\r\n",
      "Requirement already satisfied: tensorflow in ./venv/lib/python3.10/site-packages (2.17.0)\r\n",
      "Requirement already satisfied: numpy>=1.22.4 in ./venv/lib/python3.10/site-packages (from pandas) (1.26.4)\r\n",
      "Requirement already satisfied: python-dateutil>=2.8.2 in ./venv/lib/python3.10/site-packages (from pandas) (2.9.0.post0)\r\n",
      "Requirement already satisfied: pytz>=2020.1 in ./venv/lib/python3.10/site-packages (from pandas) (2024.1)\r\n",
      "Requirement already satisfied: tzdata>=2022.7 in ./venv/lib/python3.10/site-packages (from pandas) (2024.1)\r\n",
      "Requirement already satisfied: regex>=2022.1.18 in ./venv/lib/python3.10/site-packages (from tiktoken) (2024.5.15)\r\n",
      "Requirement already satisfied: requests>=2.26.0 in ./venv/lib/python3.10/site-packages (from tiktoken) (2.32.3)\r\n",
      "Requirement already satisfied: filelock in ./venv/lib/python3.10/site-packages (from huggingface_hub) (3.15.4)\r\n",
      "Requirement already satisfied: fsspec>=2023.5.0 in ./venv/lib/python3.10/site-packages (from huggingface_hub) (2024.6.1)\r\n",
      "Requirement already satisfied: packaging>=20.9 in ./venv/lib/python3.10/site-packages (from huggingface_hub) (24.1)\r\n",
      "Requirement already satisfied: pyyaml>=5.1 in ./venv/lib/python3.10/site-packages (from huggingface_hub) (6.0.1)\r\n",
      "Requirement already satisfied: tqdm>=4.42.1 in ./venv/lib/python3.10/site-packages (from huggingface_hub) (4.66.4)\r\n",
      "Requirement already satisfied: typing-extensions>=3.7.4.3 in ./venv/lib/python3.10/site-packages (from huggingface_hub) (4.12.2)\r\n",
      "Requirement already satisfied: altair<6,>=4.0 in ./venv/lib/python3.10/site-packages (from streamlit) (5.3.0)\r\n",
      "Requirement already satisfied: blinker<2,>=1.0.0 in ./venv/lib/python3.10/site-packages (from streamlit) (1.8.2)\r\n",
      "Requirement already satisfied: cachetools<6,>=4.0 in ./venv/lib/python3.10/site-packages (from streamlit) (5.4.0)\r\n",
      "Requirement already satisfied: click<9,>=7.0 in ./venv/lib/python3.10/site-packages (from streamlit) (8.1.7)\r\n",
      "Requirement already satisfied: pillow<11,>=7.1.0 in ./venv/lib/python3.10/site-packages (from streamlit) (10.4.0)\r\n",
      "Requirement already satisfied: protobuf<6,>=3.20 in ./venv/lib/python3.10/site-packages (from streamlit) (4.25.3)\r\n",
      "Requirement already satisfied: pyarrow>=7.0 in ./venv/lib/python3.10/site-packages (from streamlit) (17.0.0)\r\n",
      "Requirement already satisfied: rich<14,>=10.14.0 in ./venv/lib/python3.10/site-packages (from streamlit) (13.7.1)\r\n",
      "Requirement already satisfied: tenacity<9,>=8.1.0 in ./venv/lib/python3.10/site-packages (from streamlit) (8.5.0)\r\n",
      "Requirement already satisfied: toml<2,>=0.10.1 in ./venv/lib/python3.10/site-packages (from streamlit) (0.10.2)\r\n",
      "Requirement already satisfied: gitpython!=3.1.19,<4,>=3.0.7 in ./venv/lib/python3.10/site-packages (from streamlit) (3.1.43)\r\n",
      "Requirement already satisfied: pydeck<1,>=0.8.0b4 in ./venv/lib/python3.10/site-packages (from streamlit) (0.9.1)\r\n",
      "Requirement already satisfied: tornado<7,>=6.0.3 in ./venv/lib/python3.10/site-packages (from streamlit) (6.4.1)\r\n",
      "Requirement already satisfied: joblib in ./venv/lib/python3.10/site-packages (from nltk) (1.4.2)\r\n",
      "Requirement already satisfied: contourpy>=1.0.1 in ./venv/lib/python3.10/site-packages (from matplotlib) (1.2.1)\r\n",
      "Requirement already satisfied: cycler>=0.10 in ./venv/lib/python3.10/site-packages (from matplotlib) (0.12.1)\r\n",
      "Requirement already satisfied: fonttools>=4.22.0 in ./venv/lib/python3.10/site-packages (from matplotlib) (4.53.1)\r\n",
      "Requirement already satisfied: kiwisolver>=1.3.1 in ./venv/lib/python3.10/site-packages (from matplotlib) (1.4.5)\r\n",
      "Requirement already satisfied: pyparsing>=2.3.1 in ./venv/lib/python3.10/site-packages (from matplotlib) (3.1.2)\r\n",
      "Requirement already satisfied: absl-py>=1.0.0 in ./venv/lib/python3.10/site-packages (from tensorflow) (2.1.0)\r\n",
      "Requirement already satisfied: astunparse>=1.6.0 in ./venv/lib/python3.10/site-packages (from tensorflow) (1.6.3)\r\n",
      "Requirement already satisfied: flatbuffers>=24.3.25 in ./venv/lib/python3.10/site-packages (from tensorflow) (24.3.25)\r\n",
      "Requirement already satisfied: gast!=0.5.0,!=0.5.1,!=0.5.2,>=0.2.1 in ./venv/lib/python3.10/site-packages (from tensorflow) (0.6.0)\r\n",
      "Requirement already satisfied: google-pasta>=0.1.1 in ./venv/lib/python3.10/site-packages (from tensorflow) (0.2.0)\r\n",
      "Requirement already satisfied: h5py>=3.10.0 in ./venv/lib/python3.10/site-packages (from tensorflow) (3.11.0)\r\n",
      "Requirement already satisfied: libclang>=13.0.0 in ./venv/lib/python3.10/site-packages (from tensorflow) (18.1.1)\r\n",
      "Requirement already satisfied: ml-dtypes<0.5.0,>=0.3.1 in ./venv/lib/python3.10/site-packages (from tensorflow) (0.4.0)\r\n",
      "Requirement already satisfied: opt-einsum>=2.3.2 in ./venv/lib/python3.10/site-packages (from tensorflow) (3.3.0)\r\n",
      "Requirement already satisfied: setuptools in ./venv/lib/python3.10/site-packages (from tensorflow) (68.2.0)\r\n",
      "Requirement already satisfied: six>=1.12.0 in ./venv/lib/python3.10/site-packages (from tensorflow) (1.16.0)\r\n",
      "Requirement already satisfied: termcolor>=1.1.0 in ./venv/lib/python3.10/site-packages (from tensorflow) (2.4.0)\r\n",
      "Requirement already satisfied: wrapt>=1.11.0 in ./venv/lib/python3.10/site-packages (from tensorflow) (1.16.0)\r\n",
      "Requirement already satisfied: grpcio<2.0,>=1.24.3 in ./venv/lib/python3.10/site-packages (from tensorflow) (1.65.1)\r\n",
      "Requirement already satisfied: tensorboard<2.18,>=2.17 in ./venv/lib/python3.10/site-packages (from tensorflow) (2.17.0)\r\n",
      "Requirement already satisfied: keras>=3.2.0 in ./venv/lib/python3.10/site-packages (from tensorflow) (3.4.1)\r\n",
      "Requirement already satisfied: tensorflow-io-gcs-filesystem>=0.23.1 in ./venv/lib/python3.10/site-packages (from tensorflow) (0.37.1)\r\n",
      "Requirement already satisfied: jinja2 in ./venv/lib/python3.10/site-packages (from altair<6,>=4.0->streamlit) (3.1.4)\r\n",
      "Requirement already satisfied: jsonschema>=3.0 in ./venv/lib/python3.10/site-packages (from altair<6,>=4.0->streamlit) (4.23.0)\r\n",
      "Requirement already satisfied: toolz in ./venv/lib/python3.10/site-packages (from altair<6,>=4.0->streamlit) (0.12.1)\r\n",
      "Requirement already satisfied: wheel<1.0,>=0.23.0 in ./venv/lib/python3.10/site-packages (from astunparse>=1.6.0->tensorflow) (0.41.2)\r\n",
      "Requirement already satisfied: gitdb<5,>=4.0.1 in ./venv/lib/python3.10/site-packages (from gitpython!=3.1.19,<4,>=3.0.7->streamlit) (4.0.11)\r\n",
      "Requirement already satisfied: namex in ./venv/lib/python3.10/site-packages (from keras>=3.2.0->tensorflow) (0.0.8)\r\n",
      "Requirement already satisfied: optree in ./venv/lib/python3.10/site-packages (from keras>=3.2.0->tensorflow) (0.12.1)\r\n",
      "Requirement already satisfied: charset-normalizer<4,>=2 in ./venv/lib/python3.10/site-packages (from requests>=2.26.0->tiktoken) (3.3.2)\r\n",
      "Requirement already satisfied: idna<4,>=2.5 in ./venv/lib/python3.10/site-packages (from requests>=2.26.0->tiktoken) (3.7)\r\n",
      "Requirement already satisfied: urllib3<3,>=1.21.1 in ./venv/lib/python3.10/site-packages (from requests>=2.26.0->tiktoken) (2.2.2)\r\n",
      "Requirement already satisfied: certifi>=2017.4.17 in ./venv/lib/python3.10/site-packages (from requests>=2.26.0->tiktoken) (2024.7.4)\r\n",
      "Requirement already satisfied: markdown-it-py>=2.2.0 in ./venv/lib/python3.10/site-packages (from rich<14,>=10.14.0->streamlit) (3.0.0)\r\n",
      "Requirement already satisfied: pygments<3.0.0,>=2.13.0 in ./venv/lib/python3.10/site-packages (from rich<14,>=10.14.0->streamlit) (2.18.0)\r\n",
      "Requirement already satisfied: markdown>=2.6.8 in ./venv/lib/python3.10/site-packages (from tensorboard<2.18,>=2.17->tensorflow) (3.6)\r\n",
      "Requirement already satisfied: tensorboard-data-server<0.8.0,>=0.7.0 in ./venv/lib/python3.10/site-packages (from tensorboard<2.18,>=2.17->tensorflow) (0.7.2)\r\n",
      "Requirement already satisfied: werkzeug>=1.0.1 in ./venv/lib/python3.10/site-packages (from tensorboard<2.18,>=2.17->tensorflow) (3.0.3)\r\n",
      "Requirement already satisfied: smmap<6,>=3.0.1 in ./venv/lib/python3.10/site-packages (from gitdb<5,>=4.0.1->gitpython!=3.1.19,<4,>=3.0.7->streamlit) (5.0.1)\r\n",
      "Requirement already satisfied: MarkupSafe>=2.0 in ./venv/lib/python3.10/site-packages (from jinja2->altair<6,>=4.0->streamlit) (2.1.5)\r\n",
      "Requirement already satisfied: attrs>=22.2.0 in ./venv/lib/python3.10/site-packages (from jsonschema>=3.0->altair<6,>=4.0->streamlit) (23.2.0)\r\n",
      "Requirement already satisfied: jsonschema-specifications>=2023.03.6 in ./venv/lib/python3.10/site-packages (from jsonschema>=3.0->altair<6,>=4.0->streamlit) (2023.12.1)\r\n",
      "Requirement already satisfied: referencing>=0.28.4 in ./venv/lib/python3.10/site-packages (from jsonschema>=3.0->altair<6,>=4.0->streamlit) (0.35.1)\r\n",
      "Requirement already satisfied: rpds-py>=0.7.1 in ./venv/lib/python3.10/site-packages (from jsonschema>=3.0->altair<6,>=4.0->streamlit) (0.19.0)\r\n",
      "Requirement already satisfied: mdurl~=0.1 in ./venv/lib/python3.10/site-packages (from markdown-it-py>=2.2.0->rich<14,>=10.14.0->streamlit) (0.1.2)\r\n",
      "\r\n",
      "\u001B[1m[\u001B[0m\u001B[34;49mnotice\u001B[0m\u001B[1;39;49m]\u001B[0m\u001B[39;49m A new release of pip is available: \u001B[0m\u001B[31;49m23.2.1\u001B[0m\u001B[39;49m -> \u001B[0m\u001B[32;49m24.1.2\u001B[0m\r\n",
      "\u001B[1m[\u001B[0m\u001B[34;49mnotice\u001B[0m\u001B[1;39;49m]\u001B[0m\u001B[39;49m To update, run: \u001B[0m\u001B[32;49mpip install --upgrade pip\u001B[0m\r\n"
     ]
    }
   ],
   "source": [
    "!pip install deep-translator scikit-learn\n",
    "!pip install pandas tiktoken huggingface_hub streamlit nltk matplotlib seaborn tensorflow"
   ],
   "metadata": {
    "collapsed": false,
    "ExecuteTime": {
     "end_time": "2024-07-20T04:57:32.419071Z",
     "start_time": "2024-07-20T04:57:28.412868Z"
    }
   },
   "id": "707d27dfb396e302",
   "execution_count": 31
  },
  {
   "cell_type": "markdown",
   "source": [
    "*1. Text Translation*\n",
    "This cell uses the deep_translator library to translate text from English to Russian. The translate_text function performs the translation of the provided text into the target language, and the result is printed to verify its correctness."
   ],
   "metadata": {
    "collapsed": false
   },
   "id": "98045176a86c49aa"
  },
  {
   "cell_type": "code",
   "outputs": [
    {
     "name": "stdout",
     "output_type": "stream",
     "text": [
      "Привет, как дела?\n"
     ]
    }
   ],
   "source": [
    "from deep_translator import GoogleTranslator\n",
    "\n",
    "def translate_text(text, target_language='ru'):\n",
    "    translated_text = GoogleTranslator(source='auto', target=target_language).translate(text)\n",
    "    return translated_text\n",
    "\n",
    "translated_text = translate_text(\"Hello, how are you?\", 'ru')\n",
    "print(translated_text)"
   ],
   "metadata": {
    "collapsed": false,
    "ExecuteTime": {
     "end_time": "2024-07-20T04:49:57.282764Z",
     "start_time": "2024-07-20T04:49:56.561772Z"
    }
   },
   "id": "8417afba21cf3810",
   "execution_count": 16
  },
  {
   "cell_type": "markdown",
   "source": [
    "*2. Inspecting JSONL Files*\n",
    "The inspect_jsonl function reads the first few lines from a JSONL file and loads them into a list of dictionaries. This step helps in reviewing the structure and content of the data before further processing."
   ],
   "metadata": {
    "collapsed": false
   },
   "id": "898f780211cfbf0c"
  },
  {
   "cell_type": "code",
   "outputs": [
    {
     "name": "stdout",
     "output_type": "stream",
     "text": [
      "[\n",
      "  {\n",
      "    \"phase\": 1,\n",
      "    \"table_id\": \"1-1000181-1\",\n",
      "    \"question\": \"Tell me what the notes are for South Australia \",\n",
      "    \"sql\": {\n",
      "      \"sel\": 5,\n",
      "      \"conds\": [\n",
      "        [\n",
      "          3,\n",
      "          0,\n",
      "          \"SOUTH AUSTRALIA\"\n",
      "        ]\n",
      "      ],\n",
      "      \"agg\": 0\n",
      "    }\n",
      "  }\n",
      "]\n"
     ]
    }
   ],
   "source": [
    "import json\n",
    "\n",
    "def inspect_jsonl(file_path, num_lines=1):\n",
    "    data = []\n",
    "    with open(file_path, 'r') as f:\n",
    "        for i, line in enumerate(f):\n",
    "            if i < num_lines:\n",
    "                data.append(json.loads(line))\n",
    "            else:\n",
    "                break\n",
    "    return data\n",
    "\n",
    "sample_data = inspect_jsonl('data/train.jsonl', num_lines=1)\n",
    "print(json.dumps(sample_data, indent=2, ensure_ascii=False))"
   ],
   "metadata": {
    "collapsed": false,
    "ExecuteTime": {
     "end_time": "2024-07-20T04:49:59.196162Z",
     "start_time": "2024-07-20T04:49:59.141452Z"
    }
   },
   "id": "4d34d863152260a2",
   "execution_count": 17
  },
  {
   "cell_type": "markdown",
   "source": [
    "*3. Loading and Translating Data*\n",
    "The load_wikisql_data function loads data from a JSONL file. Then, the data is translated into Russian, and the results are saved into a DataFrame. This is an essential step for preparing the data for model training."
   ],
   "metadata": {
    "collapsed": false
   },
   "id": "de2fca37bd4349d2"
  },
  {
   "cell_type": "code",
   "outputs": [
    {
     "name": "stderr",
     "output_type": "stream",
     "text": [
      "100%|██████████| 1000/1000 [20:23<00:00,  1.22s/it]"
     ]
    },
    {
     "name": "stdout",
     "output_type": "stream",
     "text": [
      "                                         question_ru  \\\n",
      "0   Скажи мне, какие примечания для Южной Австралии?   \n",
      "1  Какая сейчас серия, новая серия началась в июн...   \n",
      "2                      Каков формат Южной Австралии?   \n",
      "3  Назовите цвет фона австралийской столичной тер...   \n",
      "4  сколько раз топливная тяга является сжиженным ...   \n",
      "\n",
      "                                         question_en  sel  \\\n",
      "0    Tell me what the notes are for South Australia     5   \n",
      "1  What is the current series where the new serie...    4   \n",
      "2            What is the format for South Australia?    2   \n",
      "3  Name the background colour for the Australian ...    1   \n",
      "4      how many times is the fuel propulsion is cng?    3   \n",
      "\n",
      "                                     conds  agg  \n",
      "0                [[3, 0, SOUTH AUSTRALIA]]    0  \n",
      "1  [[5, 0, New series began in June 2011]]    0  \n",
      "2                [[0, 0, South Australia]]    0  \n",
      "3   [[0, 0, Australian Capital Territory]]    0  \n",
      "4                            [[5, 0, CNG]]    3  \n",
      "<class 'pandas.core.frame.DataFrame'>\n",
      "RangeIndex: 1000 entries, 0 to 999\n",
      "Data columns (total 5 columns):\n",
      " #   Column       Non-Null Count  Dtype \n",
      "---  ------       --------------  ----- \n",
      " 0   question_ru  1000 non-null   object\n",
      " 1   question_en  1000 non-null   object\n",
      " 2   sel          1000 non-null   int64 \n",
      " 3   conds        1000 non-null   object\n",
      " 4   agg          1000 non-null   int64 \n",
      "dtypes: int64(2), object(3)\n",
      "memory usage: 39.2+ KB\n",
      "None\n"
     ]
    },
    {
     "name": "stderr",
     "output_type": "stream",
     "text": [
      "\n"
     ]
    }
   ],
   "source": [
    "import json\n",
    "from tqdm import tqdm\n",
    "import pandas as pd\n",
    "from deep_translator import GoogleTranslator\n",
    "\n",
    "def load_wikisql_data(file_path):\n",
    "    data = []\n",
    "    with open(file_path, 'r') as f:\n",
    "        for line in f:\n",
    "            data.append(json.loads(line))\n",
    "    return data\n",
    "\n",
    "train_data = load_wikisql_data('data/train.jsonl')\n",
    "\n",
    "def translate_text(text, target_language='ru'):\n",
    "    translated_text = GoogleTranslator(source='auto', target=target_language).translate(text)\n",
    "    return translated_text\n",
    "\n",
    "data = []\n",
    "\n",
    "for item in tqdm(train_data[:1000]):\n",
    "    question_en = item['question']\n",
    "    sql_data = item['sql']\n",
    "    \n",
    "    question_ru = translate_text(question_en)\n",
    "    \n",
    "    data.append({\n",
    "        'question_ru': question_ru,\n",
    "        'question_en': question_en,\n",
    "        'sel': sql_data['sel'],\n",
    "        'conds': sql_data['conds'],\n",
    "        'agg': sql_data['agg']\n",
    "    })\n",
    "\n",
    "df = pd.DataFrame(data)\n",
    "\n",
    "df.to_csv('wikisql_processed_data.csv', index=False)\n",
    "\n",
    "print(df.head())\n",
    "\n",
    "print(df.info())"
   ],
   "metadata": {
    "collapsed": false,
    "ExecuteTime": {
     "end_time": "2024-07-20T04:49:40.798221Z",
     "start_time": "2024-07-20T04:29:15.816505Z"
    }
   },
   "id": "c74fb8ae4c85ab43",
   "execution_count": 13
  },
  {
   "cell_type": "markdown",
   "source": [
    "*4. Viewing Data*\n",
    "This cell examines the structure and content of the created CSV file to ensure that the data has been saved correctly."
   ],
   "metadata": {
    "collapsed": false
   },
   "id": "c6e7364d5dd1c17"
  },
  {
   "cell_type": "code",
   "outputs": [
    {
     "name": "stdout",
     "output_type": "stream",
     "text": [
      "                                         question_ru  \\\n",
      "0   Скажи мне, какие примечания для Южной Австралии?   \n",
      "1  Какая сейчас серия, новая серия началась в июн...   \n",
      "2                      Каков формат Южной Австралии?   \n",
      "3  Назовите цвет фона австралийской столичной тер...   \n",
      "4  сколько раз топливная тяга является сжиженным ...   \n",
      "\n",
      "                                         question_en  sel  \\\n",
      "0    Tell me what the notes are for South Australia     5   \n",
      "1  What is the current series where the new serie...    4   \n",
      "2            What is the format for South Australia?    2   \n",
      "3  Name the background colour for the Australian ...    1   \n",
      "4      how many times is the fuel propulsion is cng?    3   \n",
      "\n",
      "                                       conds  agg  \n",
      "0                [[3, 0, 'SOUTH AUSTRALIA']]    0  \n",
      "1  [[5, 0, 'New series began in June 2011']]    0  \n",
      "2                [[0, 0, 'South Australia']]    0  \n",
      "3   [[0, 0, 'Australian Capital Territory']]    0  \n",
      "4                            [[5, 0, 'CNG']]    3  \n",
      "<class 'pandas.core.frame.DataFrame'>\n",
      "RangeIndex: 1000 entries, 0 to 999\n",
      "Data columns (total 5 columns):\n",
      " #   Column       Non-Null Count  Dtype \n",
      "---  ------       --------------  ----- \n",
      " 0   question_ru  1000 non-null   object\n",
      " 1   question_en  1000 non-null   object\n",
      " 2   sel          1000 non-null   int64 \n",
      " 3   conds        1000 non-null   object\n",
      " 4   agg          1000 non-null   int64 \n",
      "dtypes: int64(2), object(3)\n",
      "memory usage: 39.2+ KB\n",
      "None\n"
     ]
    }
   ],
   "source": [
    "import pandas as pd\n",
    "\n",
    "df = pd.read_csv('wikisql_processed_data.csv')\n",
    "\n",
    "print(df.head())\n",
    "print(df.info())"
   ],
   "metadata": {
    "collapsed": false,
    "ExecuteTime": {
     "end_time": "2024-07-20T04:50:03.494968Z",
     "start_time": "2024-07-20T04:50:03.465862Z"
    }
   },
   "id": "6bbbde31ee71a63e",
   "execution_count": 18
  },
  {
   "cell_type": "markdown",
   "source": [
    "*5. Creating SQL Queries*\n",
    "The reconstruct_sql_query function generates SQL queries based on data from the DataFrame using the provided table schema. This step is crucial for creating structured queries for analysis and model training."
   ],
   "metadata": {
    "collapsed": false
   },
   "id": "412cfde3624a16e3"
  },
  {
   "cell_type": "code",
   "outputs": [
    {
     "name": "stdout",
     "output_type": "stream",
     "text": [
      "conds\n",
      "True    1000\n",
      "Name: count, dtype: int64\n",
      "0    SELECT column6 FROM table_name WHERE column4 =...\n",
      "1    SELECT column5 FROM table_name WHERE column6 =...\n",
      "2    SELECT column3 FROM table_name WHERE column1 =...\n",
      "3    SELECT column2 FROM table_name WHERE column1 =...\n",
      "4    SELECT COUNT(column4) FROM table_name WHERE co...\n",
      "Name: sql_query, dtype: object\n",
      "[ 5  4  2  1  3  0  6  9  7 10  8]\n",
      "[3 5 0 2 1 4 10 6 8 nan 7 11 12 9]\n",
      "Empty DataFrame\n",
      "Columns: [question_ru, question_en, sel, conds, agg, sql_query]\n",
      "Index: []\n"
     ]
    }
   ],
   "source": [
    "import pandas as pd\n",
    "\n",
    "df = pd.read_csv('wikisql_processed_data.csv')\n",
    "\n",
    "df['conds'] = df['conds'].apply(eval)\n",
    "print(df['conds'].apply(lambda c: all(len(cond) == 3 for cond in c)).value_counts())\n",
    "\n",
    "table_schema = {\n",
    "    \"columns\": [\"column1\", \"column2\", \"column3\", \"column4\", \"column5\", \"column6\", \"column7\", \"column8\", \"column9\", \"column10\", \"column11\", \"column12\", \"column13\"]\n",
    "}\n",
    "\n",
    "def reconstruct_sql_query(sel, conds, agg, table_schema):\n",
    "    columns = table_schema['columns']\n",
    "    agg_funcs = [\"\", \"MAX\", \"MIN\", \"COUNT\", \"SUM\", \"AVG\"]\n",
    "\n",
    "    sel_col = columns[sel] if 0 <= sel < len(columns) else \"unknown_column\"\n",
    "    \n",
    "    agg_func = agg_funcs[agg] if 0 <= agg < len(agg_funcs) else \"\"\n",
    "    select_part = f\"SELECT {agg_func}({sel_col})\" if agg_func else f\"SELECT {sel_col}\"\n",
    "    \n",
    "    cond_parts = []\n",
    "    for cond in conds:\n",
    "        if len(cond) != 3:\n",
    "            continue\n",
    "        col_index, op, value = cond\n",
    "        col_name = columns[col_index] if 0 <= col_index < len(columns) else \"unknown_column\"\n",
    "        if isinstance(value, str):\n",
    "            value = f\"'{value}'\"\n",
    "        cond_parts.append(f\"{col_name} = {value}\")\n",
    "    \n",
    "    where_part = \" AND \".join(cond_parts)\n",
    "    where_clause = f\"WHERE {where_part}\" if where_part else \"\"\n",
    "    \n",
    "    query = f\"{select_part} FROM table_name {where_clause}\"\n",
    "    \n",
    "    return query\n",
    "\n",
    "df['sql_query'] = df.apply(lambda row: reconstruct_sql_query(row['sel'], row['conds'], row['agg'], table_schema), axis=1)\n",
    "print(df['sql_query'].head())\n",
    "\n",
    "print(df['sel'].unique())\n",
    "print(df['conds'].apply(lambda c: [x[0] for x in c]).explode().unique())\n",
    "\n",
    "# Проверка на наличие недопустимых индексов\n",
    "invalid_indices = df[(df['sel'] >= len(table_schema['columns'])) | (df['sel'] < 0) |\n",
    "                      df['conds'].apply(lambda c: any(x[0] >= len(table_schema['columns']) or x[0] < 0 for x in c))]\n",
    "print(invalid_indices)\n"
   ],
   "metadata": {
    "collapsed": false,
    "ExecuteTime": {
     "end_time": "2024-07-20T04:59:42.751212Z",
     "start_time": "2024-07-20T04:59:42.684310Z"
    }
   },
   "id": "63ce308a1d4ff9c1",
   "execution_count": 33
  },
  {
   "cell_type": "markdown",
   "source": [
    "*6. Data Analysis*\n",
    "Various plots are used to analyze the distribution of question lengths and types of SQL queries. This helps in understanding data distribution and identifying potential anomalies."
   ],
   "metadata": {
    "collapsed": false
   },
   "id": "dae2aca26d3d1b6b"
  },
  {
   "cell_type": "code",
   "outputs": [
    {
     "data": {
      "text/plain": "<Figure size 1200x600 with 1 Axes>",
      "image/png": "[encoded data removed]"
     },
     "metadata": {},
     "output_type": "display_data"
    },
    {
     "data": {
      "text/plain": "<Figure size 1000x600 with 1 Axes>",
      "image/png": "[encoded data removed]"
     },
     "metadata": {},
     "output_type": "display_data"
    },
    {
     "data": {
      "text/plain": "<Figure size 1000x600 with 1 Axes>",
      "image/png": "[encoded data removed]"
     },
     "metadata": {},
     "output_type": "display_data"
    },
    {
     "name": "stdout",
     "output_type": "stream",
     "text": [
      "             sel         agg  question_ru_length  question_en_length\n",
      "count  1000.0000  1000.00000          1000.00000         1000.000000\n",
      "mean      2.9900     0.71000            55.68700           56.753000\n",
      "std       2.2228     1.18292            21.28676           19.401609\n",
      "min       0.0000     0.00000            15.00000           17.000000\n",
      "25%       1.0000     0.00000            41.00000           43.000000\n",
      "50%       3.0000     0.00000            51.50000           54.000000\n",
      "75%       4.0000     1.00000            67.00000           68.000000\n",
      "max      10.0000     3.00000           139.00000          141.000000\n"
     ]
    }
   ],
   "source": [
    "import matplotlib.pyplot as plt\n",
    "import seaborn as sns\n",
    "\n",
    "df['question_ru_length'] = df['question_ru'].str.len()\n",
    "df['question_en_length'] = df['question_en'].str.len()\n",
    "\n",
    "plt.figure(figsize=(12, 6))\n",
    "sns.histplot(data=df, x='question_ru_length', kde=True, color='blue', label='Russian')\n",
    "sns.histplot(data=df, x='question_en_length', kde=True, color='red', label='English')\n",
    "plt.title('Distribution of Question Lengths')\n",
    "plt.xlabel('Length')\n",
    "plt.legend()\n",
    "plt.show()\n",
    "\n",
    "df['query_type'] = df['sql_query'].apply(lambda x: x.split()[0])\n",
    "plt.figure(figsize=(10, 6))\n",
    "df['query_type'].value_counts().plot(kind='bar')\n",
    "plt.title('Distribution of SQL Query Types')\n",
    "plt.xlabel('Query Type')\n",
    "plt.ylabel('Count')\n",
    "plt.show()\n",
    "\n",
    "agg_funcs = [\"\", \"MAX\", \"MIN\", \"COUNT\", \"SUM\", \"AVG\"]\n",
    "df['agg_func'] = df['agg'].map(lambda x: agg_funcs[x] if x < len(agg_funcs) else \"UNKNOWN\")\n",
    "plt.figure(figsize=(10, 6))\n",
    "df['agg_func'].value_counts().plot(kind='bar')\n",
    "plt.title('Distribution of Aggregate Functions')\n",
    "plt.xlabel('Aggregate Function')\n",
    "plt.ylabel('Count')\n",
    "plt.show()\n",
    "\n",
    "print(df.describe())"
   ],
   "metadata": {
    "collapsed": false,
    "ExecuteTime": {
     "end_time": "2024-07-20T04:59:52.457219Z",
     "start_time": "2024-07-20T04:59:51.710193Z"
    }
   },
   "id": "4610004878158715",
   "execution_count": 34
  },
  {
   "cell_type": "markdown",
   "source": [
    "*7. Text Preprocessing*\n",
    "The preprocess_text function performs text cleaning and tokenization for Russian text, removing stop words. This step is necessary for preparing the text for vectorization."
   ],
   "metadata": {
    "collapsed": false
   },
   "id": "2cf993a549a4d449"
  },
  {
   "cell_type": "code",
   "outputs": [
    {
     "name": "stdout",
     "output_type": "stream",
     "text": [
      "                                         question_ru  \\\n",
      "0   Скажи мне, какие примечания для Южной Австралии?   \n",
      "1  Какая сейчас серия, новая серия началась в июн...   \n",
      "2                      Каков формат Южной Австралии?   \n",
      "3  Назовите цвет фона австралийской столичной тер...   \n",
      "4  сколько раз топливная тяга является сжиженным ...   \n",
      "\n",
      "                               question_ru_processed  \n",
      "0             скажи какие примечания южной австралии  \n",
      "1          серия новая серия началась июне 2011 года  \n",
      "2                       каков формат южной австралии  \n",
      "3  назовите цвет фона австралийской столичной тер...  \n",
      "4  сколько топливная тяга является сжиженным прир...  \n"
     ]
    },
    {
     "name": "stderr",
     "output_type": "stream",
     "text": [
      "[nltk_data] Downloading package punkt to\n",
      "[nltk_data]     /Users/a.getashvili/nltk_data...\n",
      "[nltk_data]   Package punkt is already up-to-date!\n",
      "[nltk_data] Downloading package stopwords to\n",
      "[nltk_data]     /Users/a.getashvili/nltk_data...\n",
      "[nltk_data]   Package stopwords is already up-to-date!\n"
     ]
    }
   ],
   "source": [
    "import re\n",
    "import nltk\n",
    "from nltk.corpus import stopwords\n",
    "from nltk.tokenize import word_tokenize\n",
    "\n",
    "nltk.download('punkt')\n",
    "nltk.download('stopwords')\n",
    "\n",
    "def preprocess_text(text):\n",
    "    text = text.lower()\n",
    "    text = re.sub(r'[^\\w\\s]', '', text)\n",
    "    tokens = word_tokenize(text)\n",
    "    stop_words = set(stopwords.words('russian'))\n",
    "    tokens = [token for token in tokens if token not in stop_words]\n",
    "    return ' '.join(tokens)\n",
    "\n",
    "df['question_ru_processed'] = df['question_ru'].apply(preprocess_text)\n",
    "\n",
    "print(df[['question_ru', 'question_ru_processed']].head())"
   ],
   "metadata": {
    "collapsed": false,
    "ExecuteTime": {
     "end_time": "2024-07-20T04:59:56.269448Z",
     "start_time": "2024-07-20T04:59:56.076556Z"
    }
   },
   "id": "9fd1ad7124457a96",
   "execution_count": 35
  },
  {
   "cell_type": "markdown",
   "source": [
    "*8. Splitting Data*\n",
    "Data is split into training and testing sets using train_test_split, allowing the model to be trained on one part of the data and evaluated on another."
   ],
   "metadata": {
    "collapsed": false
   },
   "id": "133e080dfef2cc91"
  },
  {
   "cell_type": "code",
   "outputs": [
    {
     "name": "stdout",
     "output_type": "stream",
     "text": [
      "Training set size: 800\n",
      "Test set size: 200\n"
     ]
    }
   ],
   "source": [
    "from sklearn.model_selection import train_test_split\n",
    "\n",
    "X = df['question_ru_processed']\n",
    "y = df['sql_query']\n",
    "\n",
    "X_train, X_test, y_train, y_test = train_test_split(X, y, test_size=0.2, random_state=42)\n",
    "\n",
    "print(f\"Training set size: {len(X_train)}\")\n",
    "print(f\"Test set size: {len(X_test)}\")"
   ],
   "metadata": {
    "collapsed": false,
    "ExecuteTime": {
     "end_time": "2024-07-20T04:59:58.496208Z",
     "start_time": "2024-07-20T04:59:58.450962Z"
    }
   },
   "id": "c33cd04fa8f176d",
   "execution_count": 36
  },
  {
   "cell_type": "markdown",
   "source": [
    "*9. Vectorizing Text*\n",
    "Texts are transformed into numerical vectors using TfidfVectorizer, which is required for machine learning model training."
   ],
   "metadata": {
    "collapsed": false
   },
   "id": "35ab58b0c136f796"
  },
  {
   "cell_type": "code",
   "outputs": [],
   "source": [
    "from sklearn.feature_extraction.text import TfidfVectorizer\n",
    "\n",
    "vectorizer = TfidfVectorizer(max_features=5000)\n",
    "X_train_vectorized = vectorizer.fit_transform(X_train)\n",
    "X_test_vectorized = vectorizer.transform(X_test)"
   ],
   "metadata": {
    "collapsed": false,
    "ExecuteTime": {
     "end_time": "2024-07-20T05:00:00.824026Z",
     "start_time": "2024-07-20T05:00:00.791440Z"
    }
   },
   "id": "5061e7b2fef84c2d",
   "execution_count": 37
  },
  {
   "cell_type": "markdown",
   "source": [
    "*10. Training Logistic Regression*\n",
    "A logistic regression model is trained on the vectorized data. This model is used for an initial assessment of classification performance."
   ],
   "metadata": {
    "collapsed": false
   },
   "id": "4316f2e44f917899"
  },
  {
   "cell_type": "code",
   "outputs": [
    {
     "name": "stderr",
     "output_type": "stream",
     "text": [
      "/Users/a.getashvili/Documents/LLM_Digital_Person_AI/venv/lib/python3.10/site-packages/sklearn/linear_model/_logistic.py:1256: FutureWarning: 'multi_class' was deprecated in version 1.5 and will be removed in 1.7. Use OneVsRestClassifier(LogisticRegression(..)) instead. Leave it to its default value to avoid this warning.\n",
      "  warnings.warn(\n"
     ]
    },
    {
     "name": "stdout",
     "output_type": "stream",
     "text": [
      "                                                                                                              precision    recall  f1-score   support\n",
      "\n",
      "      SELECT COUNT(column1) FROM table_name WHERE column10 = 'BGS' AND column8 = 'ACGS' AND column2 = 'ACGS'       0.00      0.00      0.00       1.0\n",
      "                                   SELECT COUNT(column1) FROM table_name WHERE column2 = '\"Conference Call\"'       0.00      0.00      0.00       1.0\n",
      "                         SELECT COUNT(column1) FROM table_name WHERE column2 = 'Bosch Spark Plug Grand Prix'       0.00      0.00      0.00       1.0\n",
      "                                   SELECT COUNT(column1) FROM table_name WHERE column2 = 'Natalia Raskokoha'       0.00      0.00      0.00       1.0\n",
      "                                               SELECT COUNT(column1) FROM table_name WHERE column3 = '17.72'       0.00      0.00      0.00       1.0\n",
      "                                            SELECT COUNT(column1) FROM table_name WHERE column5 = 'B5234 T3'       0.00      0.00      0.00       1.0\n",
      "                                               SELECT COUNT(column1) FROM table_name WHERE column5 = 'Green'       0.00      0.00      0.00       1.0\n",
      "                                        SELECT COUNT(column1) FROM table_name WHERE column5 = 'May 26, 2010'       0.00      0.00      0.00       1.0\n",
      "                                    SELECT COUNT(column2) FROM table_name WHERE column3 = '3 months, 6 days'       0.00      0.00      0.00       1.0\n",
      "                                                   SELECT COUNT(column2) FROM table_name WHERE column7 = 1.0       0.00      0.00      0.00       1.0\n",
      "                              SELECT COUNT(column3) FROM table_name WHERE column4 = 'Blue band on case base'       0.00      0.00      0.00       1.0\n",
      "                                             SELECT COUNT(column3) FROM table_name WHERE column4 = 'Jakarta'       0.00      0.00      0.00       1.0\n",
      "                                               SELECT COUNT(column3) FROM table_name WHERE column7 = '10.17'       0.00      0.00      0.00       1.0\n",
      "                                            SELECT COUNT(column3) FROM table_name WHERE column7 = '2395113A'       0.00      0.00      0.00       1.0\n",
      "                                                    SELECT COUNT(column4) FROM table_name WHERE column1 = 29       0.00      0.00      0.00       1.0\n",
      "                                                    SELECT COUNT(column4) FROM table_name WHERE column1 = 79       0.00      0.00      0.00       1.0\n",
      "                                         SELECT COUNT(column4) FROM table_name WHERE column3 = '\"Voicemail\"'       0.00      0.00      0.00       1.0\n",
      "                                         SELECT COUNT(column4) FROM table_name WHERE column3 = 'Anne Street'       0.00      0.00      0.00       1.0\n",
      "                                      SELECT COUNT(column4) FROM table_name WHERE column5 = 'Allen Bestwick'       0.00      0.00      0.00       1.0\n",
      "                                            SELECT COUNT(column4) FROM table_name WHERE column5 = 'B5204 T3'       0.00      0.00      0.00       1.0\n",
      "                                            SELECT COUNT(column5) FROM table_name WHERE column1 = 'Two pair'       0.00      0.00      0.00       1.0\n",
      "                                                    SELECT COUNT(column5) FROM table_name WHERE column1 = 13       0.00      0.00      0.00       1.0\n",
      "                                                    SELECT COUNT(column5) FROM table_name WHERE column1 = 15       0.00      0.00      0.00       1.0\n",
      "                             SELECT COUNT(column5) FROM table_name WHERE column2 = '3.4' AND column1 = '5.4'       0.00      0.00      0.00       1.0\n",
      "                SELECT COUNT(column5) FROM table_name WHERE column6 = 'Sydney Football Stadium, Sydney (11)'       0.00      0.00      0.00       1.0\n",
      "                                      SELECT COUNT(column6) FROM table_name WHERE column2 = 'Friday, May 25'       0.00      0.00      0.00       1.0\n",
      "                       SELECT COUNT(column6) FROM table_name WHERE column2 = 'XVI BRDC International Trophy'       0.00      0.00      0.00       1.0\n",
      "                                       SELECT COUNT(column6) FROM table_name WHERE column4 = 'Dijon-Prenois'       0.00      0.00      0.00       1.0\n",
      "                                SELECT COUNT(column6) FROM table_name WHERE column5 = 'War Memorial Stadium'       0.00      0.00      0.00       1.0\n",
      "                                                    SELECT COUNT(column6) FROM table_name WHERE column8 = 11       0.00      0.00      0.00       1.0\n",
      "                                                  SELECT COUNT(column6) FROM table_name WHERE column9 = '20'       0.00      0.00      0.00       1.0\n",
      "                                            SELECT COUNT(column7) FROM table_name WHERE column2 = 'Ames, IA'       0.00      0.00      0.00       1.0\n",
      "              SELECT COUNT(column7) FROM table_name WHERE column3 = 'Al Unser' AND column6 = 'Penske Racing'       0.00      0.00      0.00       1.0\n",
      "                                  SELECT COUNT(column7) FROM table_name WHERE column3 = 'Indianapolis Colts'       0.00      0.00      0.00       1.0\n",
      "                                                   SELECT COUNT(column7) FROM table_name WHERE column5 = 348       0.00      0.00      0.00       1.0\n",
      "                                                SELECT COUNT(column8) FROM table_name WHERE column1 = '2009'       0.00      0.00      0.00       1.0\n",
      "                                                    SELECT COUNT(column8) FROM table_name WHERE column1 = 25       0.00      0.00      0.00       1.0\n",
      "                                    SELECT MAX(column1) FROM table_name WHERE column2 = 'Calgary Stampeders'       0.00      0.00      0.00       1.0\n",
      "                                    SELECT MAX(column1) FROM table_name WHERE column3 = 'September 29, 2008'       0.00      0.00      0.00       1.0\n",
      "                                                                        SELECT MAX(column2) FROM table_name        0.00      0.00      0.00       1.0\n",
      "                 SELECT MAX(column2) FROM table_name WHERE column4 = 'Chip Chalmers' AND column7 = '2397162'       0.00      0.00      0.00       1.0\n",
      "                                                     SELECT MAX(column3) FROM table_name WHERE column12 = 11       0.00      0.00      0.00       1.0\n",
      "                                               SELECT MAX(column6) FROM table_name WHERE column1 = '1911-12'       0.00      0.00      0.00       1.0\n",
      "                                                                        SELECT MAX(column8) FROM table_name        0.00      0.00      0.00       1.0\n",
      "                                    SELECT MIN(column1) FROM table_name WHERE column2 = 'Italian Grand Prix'       0.00      0.00      0.00       1.0\n",
      "                                       SELECT MIN(column1) FROM table_name WHERE column3 = 'Shelia Lawrence'       0.00      0.00      0.00       1.0\n",
      "                                            SELECT MIN(column1) FROM table_name WHERE column5 = 'MetroStars'       0.00      0.00      0.00       1.0\n",
      "                                                                        SELECT MIN(column2) FROM table_name        0.00      0.00      0.00       0.0\n",
      "                                                  SELECT MIN(column2) FROM table_name WHERE column1 = 'Wool'       0.00      0.00      0.00       1.0\n",
      "                                 SELECT MIN(column2) FROM table_name WHERE column11 = 'Hendrick Motorsports'       0.00      0.00      0.00       1.0\n",
      "                                           SELECT MIN(column2) FROM table_name WHERE column4 = 'Jeff Melman'       0.00      0.00      0.00       1.0\n",
      "                                             SELECT MIN(column2) FROM table_name WHERE column5 = '1998-2001'       0.00      0.00      0.00       1.0\n",
      "                                                   SELECT MIN(column2) FROM table_name WHERE column7 = '3.6'       0.00      0.00      0.00       1.0\n",
      "                                          SELECT MIN(column3) FROM table_name WHERE column4 = 'Bruce Cerone'       0.00      0.00      0.00       1.0\n",
      "                                      SELECT MIN(column3) FROM table_name WHERE column6 = 'Youngstown State'       0.00      0.00      0.00       1.0\n",
      "                                         SELECT MIN(column5) FROM table_name WHERE column2 = 'East End Park'       0.00      0.00      0.00       1.0\n",
      "                                  SELECT MIN(column5) FROM table_name WHERE column2 = 'Nashville, Tennessee'       0.00      0.00      0.00       1.0\n",
      "                                                                        SELECT MIN(column6) FROM table_name        0.00      0.00      0.00       2.0\n",
      "                                            SELECT MIN(column6) FROM table_name WHERE column1 = 'Spitallamm'       0.00      0.00      0.00       1.0\n",
      "                                 SELECT MIN(column7) FROM table_name WHERE column4 = '8.16 (64) – 8.12 (60)'       0.00      0.00      0.00       1.0\n",
      "                                                                        SELECT MIN(column8) FROM table_name        0.00      0.00      0.00       0.0\n",
      "                                    SELECT column1 FROM table_name WHERE column2 = '2.9' AND column4 = '1.3'       0.00      0.00      0.00       1.0\n",
      "                                                    SELECT column1 FROM table_name WHERE column2 = '600,000'       0.00      0.00      0.00       1.0\n",
      "                                        SELECT column1 FROM table_name WHERE column2 = 'Canadian Grand Prix'       0.00      0.00      0.00       1.0\n",
      "                                                      SELECT column1 FROM table_name WHERE column3 = '緣來自有機'       0.00      0.00      0.00       1.0\n",
      "                                  SELECT column1 FROM table_name WHERE column4 = '1930' AND column5 = '1926'       0.00      0.00      0.00       1.0\n",
      "                                            SELECT column1 FROM table_name WHERE column4 = 'August 22, 2010'       0.00      0.00      0.00       1.0\n",
      "                                                           SELECT column1 FROM table_name WHERE column4 = 12       0.00      0.00      0.00       1.0\n",
      "                                                          SELECT column1 FROM table_name WHERE column4 = 375       0.00      0.00      0.00       1.0\n",
      "                                                    SELECT column1 FROM table_name WHERE column5 = '2000-02'       0.00      0.00      0.00       1.0\n",
      "                                                    SELECT column1 FROM table_name WHERE column5 = 'D5244 T'       0.00      0.00      0.00       1.0\n",
      "                                                         SELECT column1 FROM table_name WHERE column5 = 1600       0.00      0.00      0.00       1.0\n",
      "                                                    SELECT column1 FROM table_name WHERE column6 = 'Georgia'       0.00      0.00      0.00       1.0\n",
      "                                                          SELECT column1 FROM table_name WHERE column6 = 1.0       0.00      0.00      0.00       1.0\n",
      "                                            SELECT column1 FROM table_name WHERE column9 = 2 AND column4 = 0       0.00      0.00      0.00       1.0\n",
      "                                    SELECT column2 FROM table_name WHERE column1 = '6.5' AND column4 = '2.2'       0.00      0.00      0.00       1.0\n",
      "                                             SELECT column2 FROM table_name WHERE column1 = 'Alloa Athletic'       0.00      0.00      0.00       1.0\n",
      "                                             SELECT column2 FROM table_name WHERE column1 = 'Alpha Nu Omega'       0.00      0.00      0.00       1.0\n",
      "                                             SELECT column2 FROM table_name WHERE column1 = 'CH-47D Chinook'       0.00      0.00      0.00       1.0\n",
      "                                                      SELECT column2 FROM table_name WHERE column1 = 'UNCOK'       0.00      0.00      0.00       1.0\n",
      "                                                    SELECT column2 FROM table_name WHERE column1 = 'c. 1900'       0.00      0.00      0.00       1.0\n",
      "                           SELECT column2 FROM table_name WHERE column3 = '17 March 1942 – end of June 1943'       0.00      0.00      0.00       1.0\n",
      "                                       SELECT column2 FROM table_name WHERE column3 = 'Anastasiya Slutskaya'       0.00      0.00      0.00       1.0\n",
      "                                        SELECT column2 FROM table_name WHERE column3 = 'Oṃ Yaṃ Vāyuve Namaḥ'       0.00      0.00      0.00       1.0\n",
      "                                                         SELECT column2 FROM table_name WHERE column4 = 'OL'       0.00      0.00      0.00       1.0\n",
      "                                         SELECT column2 FROM table_name WHERE column4 = 'September 23, 2009'       0.00      0.00      0.00       1.0\n",
      "                                                       SELECT column2 FROM table_name WHERE column4 = 'YscP'       0.00      0.00      0.00       1.0\n",
      "                                                           SELECT column2 FROM table_name WHERE column4 = 70       0.00      0.00      0.00       1.0\n",
      "                                                    SELECT column2 FROM table_name WHERE column5 = 'Ukraine'       0.00      0.00      0.00       1.0\n",
      "                                                            SELECT column2 FROM table_name WHERE column5 = 4       0.00      0.00      0.00       1.0\n",
      "                                        SELECT column2 FROM table_name WHERE column6 = 'Bṛhaspati (Jupiter)'       0.00      0.00      0.00       1.0\n",
      "                          SELECT column2 FROM table_name WHERE column6 = 'Charleston Area Convention Center'       0.00      0.00      0.00       1.0\n",
      "                                                       SELECT column3 FROM table_name WHERE column1 = '1929'       0.00      0.00      0.00       1.0\n",
      "                                                            SELECT column3 FROM table_name WHERE column1 = 2       0.00      0.00      0.00       1.0\n",
      "                                                 SELECT column3 FROM table_name WHERE column2 = '\"Blowback\"'       0.00      0.00      0.00       1.0\n",
      "                                                       SELECT column3 FROM table_name WHERE column2 = 'IpgC'       0.00      0.00      0.00       1.0\n",
      "                                                    SELECT column3 FROM table_name WHERE column2 = 'Livorno'       0.00      0.00      0.00       1.0\n",
      "                                                 SELECT column3 FROM table_name WHERE column2 = 'Mark Polak'       0.00      0.00      0.00       1.0\n",
      "                                          SELECT column3 FROM table_name WHERE column2 = 'Monaco Grand Prix'       0.00      0.00      0.00       1.0\n",
      "                                         SELECT column3 FROM table_name WHERE column2 = 'Montreal Alouettes'       0.00      0.00      0.00       1.0\n",
      "                                             SELECT column3 FROM table_name WHERE column4 = '2nd, Northwest'       0.00      0.00      0.00       1.0\n",
      "                                                   SELECT column3 FROM table_name WHERE column4 = 'KIDS-270'       0.00      0.00      0.00       1.0\n",
      "                   SELECT column3 FROM table_name WHERE column4 = 'Peter Markle' AND column5 = 'Jerry Stahl'       0.00      0.00      0.00       1.0\n",
      "                                  SELECT column3 FROM table_name WHERE column5 = '1972' AND column4 = '1977'       0.00      0.00      0.00       1.0\n",
      "                                                SELECT column3 FROM table_name WHERE column5 = 'Alain Prost'       0.00      0.00      0.00       1.0\n",
      "                                                   SELECT column3 FROM table_name WHERE column5 = 'D5244 T5'       0.00      0.00      0.00       1.0\n",
      "                                                SELECT column3 FROM table_name WHERE column5 = 'David Mamet'       0.00      0.00      0.00       1.0\n",
      "                                               SELECT column3 FROM table_name WHERE column5 = 'Ken LaZebnik'       0.00      0.00      0.00       1.0\n",
      "                                               SELECT column3 FROM table_name WHERE column5 = 'Saskatchewan'       0.00      0.00      0.00       1.0\n",
      "                                                SELECT column3 FROM table_name WHERE column5 = 'SepB (EscN)'       0.00      0.00      0.00       1.0\n",
      "                                              SELECT column3 FROM table_name WHERE column6 = '13 March 2008'       0.00      0.00      0.00       1.0\n",
      "                SELECT column3 FROM table_name WHERE column6 = 'Ferrari' AND column2 = 'Austrian Grand Prix'       0.00      0.00      0.00       1.0\n",
      "                                                     SELECT column3 FROM table_name WHERE column6 = 'Oregon'       0.00      0.00      0.00       1.0\n",
      "                                                       SELECT column3 FROM table_name WHERE column6 = 'Rice'       0.00      0.00      0.00       1.0\n",
      "                                             SELECT column3 FROM table_name WHERE column7 = 'Michigan State'       0.00      0.00      0.00       1.0\n",
      "                                                      SELECT column3 FROM table_name WHERE column8 = '16.38'       0.00      0.00      0.00       1.0\n",
      "                                                           SELECT column3 FROM table_name WHERE column8 = 35       0.00      0.00      0.00       1.0\n",
      "                    SELECT column4 FROM table_name WHERE column1 = 'County Mayo' AND column2 = 'Carrowteige'       0.00      0.00      0.00       1.0\n",
      "             SELECT column4 FROM table_name WHERE column1 = 'Factor X deficiency as seen in amyloid purpura'       0.00      0.00      0.00       1.0\n",
      "                SELECT column4 FROM table_name WHERE column1 = 'Manchester City' AND column5 = 'Mark Hughes'       0.00      0.00      0.00       1.0\n",
      "                                                           SELECT column4 FROM table_name WHERE column1 = 13       0.00      0.00      0.00       1.0\n",
      "                                         SELECT column4 FROM table_name WHERE column2 = '\"Who's Your Daddy\"'       0.00      0.00      0.00       1.0\n",
      "                                                 SELECT column4 FROM table_name WHERE column2 = '10:00-8:00'       0.00      0.00      0.00       1.0\n",
      "                                                         SELECT column4 FROM table_name WHERE column2 = '47'       0.00      0.00      0.00       1.0\n",
      "                                               SELECT column4 FROM table_name WHERE column2 = 'Brands Hatch'       0.00      0.00      0.00       1.0\n",
      "                   SELECT column4 FROM table_name WHERE column2 = 'Tenneco Automotive Grand Prix of Detroit'       0.00      0.00      0.00       1.0\n",
      "                                                    SELECT column4 FROM table_name WHERE column3 = '5 April'       0.00      0.00      0.00       1.0\n",
      "                                            SELECT column4 FROM table_name WHERE column3 = 'Leitir Mealláin'       0.00      0.00      0.00       1.0\n",
      "                                    SELECT column4 FROM table_name WHERE column3 = 'May 1940 – January 1945'       0.00      0.00      0.00       1.0\n",
      "                                                      SELECT column4 FROM table_name WHERE column5 = '13.66'       0.00      0.00      0.00       1.0\n",
      "                          SELECT column4 FROM table_name WHERE column5 = 'Ellenton, FL' AND column1 = '2004'       0.00      0.00      0.00       1.0\n",
      "                                                  SELECT column4 FROM table_name WHERE column5 = 'Max Papis'       0.00      0.00      0.00       1.0\n",
      "                                                       SELECT column4 FROM table_name WHERE column5 = 'Śacī'       0.00      0.00      0.00       1.0\n",
      "                                                          SELECT column4 FROM table_name WHERE column5 = 114       0.00      0.00      0.00       1.0\n",
      "                                           SELECT column4 FROM table_name WHERE column6 = 'Brownsville Pace'       0.00      0.00      0.00       1.0\n",
      "                                                       SELECT column4 FROM table_name WHERE column7 = '2.61'       0.00      0.00      0.00       1.0\n",
      "                                                   SELECT column5 FROM table_name WHERE column1 = 'Bulgaria'       0.00      0.00      0.00       1.0\n",
      "                                                  SELECT column5 FROM table_name WHERE column1 = 'Hawthorne'       0.00      0.00      0.00       1.0\n",
      "                              SELECT column5 FROM table_name WHERE column1 = 'I Italian Republic Grand Prix'       0.00      0.00      0.00       1.0\n",
      "                                                      SELECT column5 FROM table_name WHERE column1 = 'T5120'       0.00      0.00      0.00       1.0\n",
      "                                                           SELECT column5 FROM table_name WHERE column1 = 94       0.00      0.00      0.00       1.0\n",
      "                                          SELECT column5 FROM table_name WHERE column2 = 'German Grand Prix'       0.00      0.00      0.00       1.0\n",
      "                                                  SELECT column5 FROM table_name WHERE column2 = 'La Granja'       0.00      0.00      0.00       1.0\n",
      "                                                SELECT column5 FROM table_name WHERE column2 = 'Peter Strom'       0.00      0.00      0.00       1.0\n",
      "                                                SELECT column5 FROM table_name WHERE column2 = 'Silverstone'       0.00      0.00      0.00       1.0\n",
      "                                                            SELECT column5 FROM table_name WHERE column2 = 3       0.00      0.00      0.00       1.0\n",
      "                                                    SELECT column5 FROM table_name WHERE column3 = '\"Black\"'       0.00      0.00      0.00       1.0\n",
      "                                            SELECT column5 FROM table_name WHERE column3 = '\"Boxing Sydney\"'       0.00      0.00      0.00       1.0\n",
      "                                           SELECT column5 FROM table_name WHERE column3 = '\"One Hit Wonder\"'       0.00      0.00      0.00       1.0\n",
      "                                                      SELECT column5 FROM table_name WHERE column3 = '860.5'       0.00      0.00      0.00       1.0\n",
      "                                           SELECT column5 FROM table_name WHERE column3 = 'Lenard Semajuste'       0.00      0.00      0.00       1.0\n",
      "                                                SELECT column5 FROM table_name WHERE column3 = 'May 5, 2009'       0.00      0.00      0.00       1.0\n",
      "                                                     SELECT column5 FROM table_name WHERE column3 = 'Modena'       0.00      0.00      0.00       1.0\n",
      "                                              SELECT column5 FROM table_name WHERE column3 = 'Night Driving'       0.00      0.00      0.00       1.0\n",
      "                                     SELECT column5 FROM table_name WHERE column3 = 'N·m ( lbf·ft ) @ 4,800'       0.00      0.00      0.00       1.0\n",
      "                                    SELECT column5 FROM table_name WHERE column4 = '2.0' AND column3 = '4.9'       0.00      0.00      0.00       1.0\n",
      "                                                    SELECT column5 FROM table_name WHERE column7 = '2394084'       0.00      0.00      0.00       1.0\n",
      "                                                    SELECT column5 FROM table_name WHERE column7 = '2395096'       0.00      0.00      0.00       1.0\n",
      "                                              SELECT column6 FROM table_name WHERE column1 = 'Herb Williams'       0.00      0.00      0.00       1.0\n",
      "                                                  SELECT column6 FROM table_name WHERE column1 = 'Peter Pan'       0.00      0.00      0.00       1.0\n",
      "                             SELECT column6 FROM table_name WHERE column1 = 'XIII Grand Prix de l'Albigeois'       0.00      0.00      0.00       1.0\n",
      "                                                          SELECT column6 FROM table_name WHERE column1 = 113       0.00      0.00      0.00       1.0\n",
      "                                                           SELECT column6 FROM table_name WHERE column1 = 36       0.00      0.00      0.00       1.0\n",
      "                            SELECT column6 FROM table_name WHERE column2 = '\"Chapter Five: Dressed to Kill\"'       0.00      0.00      0.00       1.0\n",
      "                                             SELECT column6 FROM table_name WHERE column2 = 'Campbell Money'       0.00      0.00      0.00       1.0\n",
      "                                           SELECT column6 FROM table_name WHERE column2 = 'Dutch Grand Prix'       0.00      0.00      0.00       1.0\n",
      "                                                        SELECT column6 FROM table_name WHERE column2 = 'Pau'       0.00      0.00      0.00       1.0\n",
      "                                                            SELECT column6 FROM table_name WHERE column2 = 9       0.00      0.00      0.00       1.0\n",
      "                                            SELECT column6 FROM table_name WHERE column3 = 'South Melbourne'       0.00      0.00      0.00       1.0\n",
      "                                            SELECT column6 FROM table_name WHERE column4 = 'Elon University'       0.00      0.00      0.00       1.0\n",
      "                              SELECT column6 FROM table_name WHERE column4 = 'Winter 1541/February 13, 1542'       0.00      0.00      0.00       1.0\n",
      "           SELECT column6 FROM table_name WHERE column5 = '1912' AND column3 = 'The Ghana Scout Association'       0.00      0.00      0.00       1.0\n",
      "                                                   SELECT column6 FROM table_name WHERE column5 = 'B5244 T2'       0.00      0.00      0.00       1.0\n",
      "                                          SELECT column6 FROM table_name WHERE column5 = 'Gilles Villeneuve'       0.00      0.00      0.00       1.0\n",
      "                                             SELECT column6 FROM table_name WHERE column5 = 'Patrick Tambay'       0.00      0.00      0.00       1.0\n",
      "                                                       SELECT column6 FROM table_name WHERE column7 = '5.61'       0.00      0.00      0.00       1.0\n",
      "                     SELECT column6 FROM table_name WHERE column8 = '0–100km/h: 7.5s auto, VMax: km/h (mph)'       0.00      0.00      0.00       1.0\n",
      "                                                       SELECT column7 FROM table_name WHERE column11 = '117'       0.00      0.00      0.00       1.0\n",
      "                                                   SELECT column7 FROM table_name WHERE column2 = '\"Legacy\"'       0.00      0.00      0.00       1.0\n",
      "                                             SELECT column7 FROM table_name WHERE column2 = 'True Value 500'       0.00      0.00      0.00       1.0\n",
      "                                                           SELECT column7 FROM table_name WHERE column2 = 15       0.00      0.00      0.00       1.0\n",
      "                                         SELECT column7 FROM table_name WHERE column3 = '\"All About Brooke\"'       0.00      0.00      0.00       1.0\n",
      "                                 SELECT column7 FROM table_name WHERE column3 = 'Yes (Mitsubishi TD04-16t )'       0.00      0.00      0.00       1.0\n",
      "               SELECT column7 FROM table_name WHERE column5 = 'José Molina' AND column6 = 'October 12, 2004'       0.00      0.00      0.00       1.0\n",
      "                                           SELECT column7 FROM table_name WHERE column5 = 'Krystal Houghton'       0.00      0.00      0.00       1.0\n",
      "                                                          SELECT column7 FROM table_name WHERE column6 = 120       0.00      0.00      0.00       1.0\n",
      "                                           SELECT column7 FROM table_name WHERE column9 = 'Barbara McCulloh'       0.00      0.00      0.00       1.0\n",
      "                                       SELECT column7 FROM table_name WHERE column9 = 'Introverted Sanguine'       0.00      0.00      0.00       1.0\n",
      "                                                        SELECT column8 FROM table_name WHERE column3 = '十兄弟'       0.00      0.00      0.00       1.0\n",
      "                                                       SELECT column8 FROM table_name WHERE column4 = '1544'       0.00      0.00      0.00       1.0\n",
      "                SELECT column8 FROM table_name WHERE column6 = 'Riccardo Patrese' AND column4 = 'Interlagos'       0.00      0.00      0.00       1.0\n",
      "                      SELECT column8 FROM table_name WHERE column7 = 'Megan' AND column4 = 'Lorette LeBlanc'       0.00      0.00      0.00       1.0\n",
      "                                                           SELECT column8 FROM table_name WHERE column7 = 51       0.00      0.00      0.00       1.0\n",
      "                                                          SELECT column8 FROM table_name WHERE column9 = 144       0.00      0.00      0.00       1.0\n",
      "                                                      SELECT column9 FROM table_name WHERE column10 = '0.7%'       0.00      0.00      0.00       1.0\n",
      "                                       SELECT column9 FROM table_name WHERE column2 = 'Argentine Grand Prix'       0.00      0.00      0.00       1.0\n",
      "                                           SELECT column9 FROM table_name WHERE column3 = 'November 9, 2007'       0.00      0.00      0.00       1.0\n",
      "                                                        SELECT column9 FROM table_name WHERE column4 = '6.2'       0.00      0.00      0.00       1.0\n",
      "                           SELECT column9 FROM table_name WHERE column7 = 'Piano' AND column1 = '2004-02-03'       0.00      0.00      0.00       1.0\n",
      "SELECT column9 FROM table_name WHERE column8 = 'Williams - Renault' AND column2 = 'South African Grand Prix'       0.00      0.00      0.00       1.0\n",
      "                                  SELECT column9 FROM table_name WHERE column8 = 249887 AND column6 = '6.8%'       0.00      0.00      0.00       1.0\n",
      "\n",
      "                                                                                                    accuracy                           0.00     200.0\n",
      "                                                                                                   macro avg       0.00      0.00      0.00     200.0\n",
      "                                                                                                weighted avg       0.00      0.00      0.00     200.0\n"
     ]
    },
    {
     "name": "stderr",
     "output_type": "stream",
     "text": [
      "/Users/a.getashvili/Documents/LLM_Digital_Person_AI/venv/lib/python3.10/site-packages/sklearn/metrics/_classification.py:1531: UndefinedMetricWarning: Precision is ill-defined and being set to 0.0 in labels with no predicted samples. Use `zero_division` parameter to control this behavior.\n",
      "  _warn_prf(average, modifier, f\"{metric.capitalize()} is\", len(result))\n",
      "/Users/a.getashvili/Documents/LLM_Digital_Person_AI/venv/lib/python3.10/site-packages/sklearn/metrics/_classification.py:1531: UndefinedMetricWarning: Recall is ill-defined and being set to 0.0 in labels with no true samples. Use `zero_division` parameter to control this behavior.\n",
      "  _warn_prf(average, modifier, f\"{metric.capitalize()} is\", len(result))\n",
      "/Users/a.getashvili/Documents/LLM_Digital_Person_AI/venv/lib/python3.10/site-packages/sklearn/metrics/_classification.py:1531: UndefinedMetricWarning: Precision is ill-defined and being set to 0.0 in labels with no predicted samples. Use `zero_division` parameter to control this behavior.\n",
      "  _warn_prf(average, modifier, f\"{metric.capitalize()} is\", len(result))\n",
      "/Users/a.getashvili/Documents/LLM_Digital_Person_AI/venv/lib/python3.10/site-packages/sklearn/metrics/_classification.py:1531: UndefinedMetricWarning: Recall is ill-defined and being set to 0.0 in labels with no true samples. Use `zero_division` parameter to control this behavior.\n",
      "  _warn_prf(average, modifier, f\"{metric.capitalize()} is\", len(result))\n",
      "/Users/a.getashvili/Documents/LLM_Digital_Person_AI/venv/lib/python3.10/site-packages/sklearn/metrics/_classification.py:1531: UndefinedMetricWarning: Precision is ill-defined and being set to 0.0 in labels with no predicted samples. Use `zero_division` parameter to control this behavior.\n",
      "  _warn_prf(average, modifier, f\"{metric.capitalize()} is\", len(result))\n",
      "/Users/a.getashvili/Documents/LLM_Digital_Person_AI/venv/lib/python3.10/site-packages/sklearn/metrics/_classification.py:1531: UndefinedMetricWarning: Recall is ill-defined and being set to 0.0 in labels with no true samples. Use `zero_division` parameter to control this behavior.\n",
      "  _warn_prf(average, modifier, f\"{metric.capitalize()} is\", len(result))\n"
     ]
    }
   ],
   "source": [
    "from sklearn.linear_model import LogisticRegression\n",
    "from sklearn.metrics import classification_report\n",
    "\n",
    "model = LogisticRegression(multi_class='ovr', max_iter=1000)\n",
    "model.fit(X_train_vectorized, y_train)\n",
    "\n",
    "y_pred = model.predict(X_test_vectorized)\n",
    "print(classification_report(y_test, y_pred))"
   ],
   "metadata": {
    "collapsed": false,
    "ExecuteTime": {
     "end_time": "2024-07-20T05:00:05.454637Z",
     "start_time": "2024-07-20T05:00:02.443963Z"
    }
   },
   "id": "1755804a4e26a15b",
   "execution_count": 38
  },
  {
   "cell_type": "markdown",
   "source": [
    "*11. Training Data Information*\n",
    "Information about the classes in the training set is displayed to ensure that the data is balanced."
   ],
   "metadata": {
    "collapsed": false
   },
   "id": "5355ba04b022db8b"
  },
  {
   "cell_type": "code",
   "outputs": [
    {
     "name": "stdout",
     "output_type": "stream",
     "text": [
      "782\n",
      "sql_query\n",
      "SELECT MIN(column2) FROM table_name                                   4\n",
      "SELECT MAX(column2) FROM table_name                                   3\n",
      "SELECT column8 FROM table_name WHERE column3 = '2R'                   2\n",
      "SELECT column3 FROM table_name WHERE column2 = 'French Grand Prix'    2\n",
      "SELECT column7 FROM table_name WHERE column5 = 'Jim Pugh'             2\n",
      "                                                                     ..\n",
      "SELECT column3 FROM table_name WHERE column1 = '2053'                 1\n",
      "SELECT column1 FROM table_name WHERE column5 = 'D5244 T7'             1\n",
      "SELECT column5 FROM table_name WHERE column2 = 'Zeltweg Airfield'     1\n",
      "SELECT column6 FROM table_name WHERE column4 = 'Mike Hawthorn'        1\n",
      "SELECT column5 FROM table_name WHERE column1 = 12                     1\n",
      "Name: count, Length: 782, dtype: int64\n"
     ]
    }
   ],
   "source": [
    "print(y_train.nunique())\n",
    "print(y_train.value_counts())"
   ],
   "metadata": {
    "collapsed": false,
    "ExecuteTime": {
     "end_time": "2024-07-19T10:10:25.961841Z",
     "start_time": "2024-07-19T10:10:25.955913Z"
    }
   },
   "id": "3c0d5b23f7438356",
   "execution_count": 35
  },
  {
   "cell_type": "markdown",
   "source": [
    "*12. Extracting SQL Components*\n",
    "The extract_components function splits SQL queries into parts, such as SELECT and WHERE. This allows for additional analysis at the component level."
   ],
   "metadata": {
    "collapsed": false
   },
   "id": "e1fc4ed7eadd344f"
  },
  {
   "cell_type": "code",
   "outputs": [],
   "source": [
    "def extract_components(sql):\n",
    "    select = sql.split('FROM')[0].strip()\n",
    "    where = sql.split('WHERE')[-1].strip() if 'WHERE' in sql else ''\n",
    "    return select, where\n",
    "\n",
    "df['select'], df['where'] = zip(*df['sql_query'].apply(extract_components))"
   ],
   "metadata": {
    "collapsed": false,
    "ExecuteTime": {
     "end_time": "2024-07-20T05:00:05.660789Z",
     "start_time": "2024-07-20T05:00:05.621082Z"
    }
   },
   "id": "b22508e50f97a74f",
   "execution_count": 39
  },
  {
   "cell_type": "markdown",
   "source": [
    "*13. Training Random Forest*\n",
    "A random forest model is trained on the same vectorized data as the logistic regression model. This can help improve prediction quality with a more complex model."
   ],
   "metadata": {
    "collapsed": false
   },
   "id": "852054c633feca60"
  },
  {
   "cell_type": "code",
   "outputs": [
    {
     "data": {
      "text/plain": "RandomForestClassifier(random_state=42)",
      "text/html": "<style>#sk-container-id-2 {\n  /* Definition of color scheme common for light and dark mode */\n  --sklearn-color-text: black;\n  --sklearn-color-line: gray;\n  /* Definition of color scheme for unfitted estimators */\n  --sklearn-color-unfitted-level-0: #fff5e6;\n  --sklearn-color-unfitted-level-1: #f6e4d2;\n  --sklearn-color-unfitted-level-2: #ffe0b3;\n  --sklearn-color-unfitted-level-3: chocolate;\n  /* Definition of color scheme for fitted estimators */\n  --sklearn-color-fitted-level-0: #f0f8ff;\n  --sklearn-color-fitted-level-1: #d4ebff;\n  --sklearn-color-fitted-level-2: #b3dbfd;\n  --sklearn-color-fitted-level-3: cornflowerblue;\n\n  /* Specific color for light theme */\n  --sklearn-color-text-on-default-background: var(--sg-text-color, var(--theme-code-foreground, var(--jp-content-font-color1, black)));\n  --sklearn-color-background: var(--sg-background-color, var(--theme-background, var(--jp-layout-color0, white)));\n  --sklearn-color-border-box: var(--sg-text-color, var(--theme-code-foreground, var(--jp-content-font-color1, black)));\n  --sklearn-color-icon: #696969;\n\n  @media (prefers-color-scheme: dark) {\n    /* Redefinition of color scheme for dark theme */\n    --sklearn-color-text-on-default-background: var(--sg-text-color, var(--theme-code-foreground, var(--jp-content-font-color1, white)));\n    --sklearn-color-background: var(--sg-background-color, var(--theme-background, var(--jp-layout-color0, #111)));\n    --sklearn-color-border-box: var(--sg-text-color, var(--theme-code-foreground, var(--jp-content-font-color1, white)));\n    --sklearn-color-icon: #878787;\n  }\n}\n\n#sk-container-id-2 {\n  color: var(--sklearn-color-text);\n}\n\n#sk-container-id-2 pre {\n  padding: 0;\n}\n\n#sk-container-id-2 input.sk-hidden--visually {\n  border: 0;\n  clip: rect(1px 1px 1px 1px);\n  clip: rect(1px, 1px, 1px, 1px);\n  height: 1px;\n  margin: -1px;\n  overflow: hidden;\n  padding: 0;\n  position: absolute;\n  width: 1px;\n}\n\n#sk-container-id-2 div.sk-dashed-wrapped {\n  border: 1px dashed var(--sklearn-color-line);\n  margin: 0 0.4em 0.5em 0.4em;\n  box-sizing: border-box;\n  padding-bottom: 0.4em;\n  background-color: var(--sklearn-color-background);\n}\n\n#sk-container-id-2 div.sk-container {\n  /* jupyter's `normalize.less` sets `[hidden] { display: none; }`\n     but bootstrap.min.css set `[hidden] { display: none !important; }`\n     so we also need the `!important` here to be able to override the\n     default hidden behavior on the sphinx rendered scikit-learn.org.\n     See: https://github.com/scikit-learn/scikit-learn/issues/21755 */\n  display: inline-block !important;\n  position: relative;\n}\n\n#sk-container-id-2 div.sk-text-repr-fallback {\n  display: none;\n}\n\ndiv.sk-parallel-item,\ndiv.sk-serial,\ndiv.sk-item {\n  /* draw centered vertical line to link estimators */\n  background-image: linear-gradient(var(--sklearn-color-text-on-default-background), var(--sklearn-color-text-on-default-background));\n  background-size: 2px 100%;\n  background-repeat: no-repeat;\n  background-position: center center;\n}\n\n/* Parallel-specific style estimator block */\n\n#sk-container-id-2 div.sk-parallel-item::after {\n  content: \"\";\n  width: 100%;\n  border-bottom: 2px solid var(--sklearn-color-text-on-default-background);\n  flex-grow: 1;\n}\n\n#sk-container-id-2 div.sk-parallel {\n  display: flex;\n  align-items: stretch;\n  justify-content: center;\n  background-color: var(--sklearn-color-background);\n  position: relative;\n}\n\n#sk-container-id-2 div.sk-parallel-item {\n  display: flex;\n  flex-direction: column;\n}\n\n#sk-container-id-2 div.sk-parallel-item:first-child::after {\n  align-self: flex-end;\n  width: 50%;\n}\n\n#sk-container-id-2 div.sk-parallel-item:last-child::after {\n  align-self: flex-start;\n  width: 50%;\n}\n\n#sk-container-id-2 div.sk-parallel-item:only-child::after {\n  width: 0;\n}\n\n/* Serial-specific style estimator block */\n\n#sk-container-id-2 div.sk-serial {\n  display: flex;\n  flex-direction: column;\n  align-items: center;\n  background-color: var(--sklearn-color-background);\n  padding-right: 1em;\n  padding-left: 1em;\n}\n\n\n/* Toggleable style: style used for estimator/Pipeline/ColumnTransformer box that is\nclickable and can be expanded/collapsed.\n- Pipeline and ColumnTransformer use this feature and define the default style\n- Estimators will overwrite some part of the style using the `sk-estimator` class\n*/\n\n/* Pipeline and ColumnTransformer style (default) */\n\n#sk-container-id-2 div.sk-toggleable {\n  /* Default theme specific background. It is overwritten whether we have a\n  specific estimator or a Pipeline/ColumnTransformer */\n  background-color: var(--sklearn-color-background);\n}\n\n/* Toggleable label */\n#sk-container-id-2 label.sk-toggleable__label {\n  cursor: pointer;\n  display: block;\n  width: 100%;\n  margin-bottom: 0;\n  padding: 0.5em;\n  box-sizing: border-box;\n  text-align: center;\n}\n\n#sk-container-id-2 label.sk-toggleable__label-arrow:before {\n  /* Arrow on the left of the label */\n  content: \"▸\";\n  float: left;\n  margin-right: 0.25em;\n  color: var(--sklearn-color-icon);\n}\n\n#sk-container-id-2 label.sk-toggleable__label-arrow:hover:before {\n  color: var(--sklearn-color-text);\n}\n\n/* Toggleable content - dropdown */\n\n#sk-container-id-2 div.sk-toggleable__content {\n  max-height: 0;\n  max-width: 0;\n  overflow: hidden;\n  text-align: left;\n  /* unfitted */\n  background-color: var(--sklearn-color-unfitted-level-0);\n}\n\n#sk-container-id-2 div.sk-toggleable__content.fitted {\n  /* fitted */\n  background-color: var(--sklearn-color-fitted-level-0);\n}\n\n#sk-container-id-2 div.sk-toggleable__content pre {\n  margin: 0.2em;\n  border-radius: 0.25em;\n  color: var(--sklearn-color-text);\n  /* unfitted */\n  background-color: var(--sklearn-color-unfitted-level-0);\n}\n\n#sk-container-id-2 div.sk-toggleable__content.fitted pre {\n  /* unfitted */\n  background-color: var(--sklearn-color-fitted-level-0);\n}\n\n#sk-container-id-2 input.sk-toggleable__control:checked~div.sk-toggleable__content {\n  /* Expand drop-down */\n  max-height: 200px;\n  max-width: 100%;\n  overflow: auto;\n}\n\n#sk-container-id-2 input.sk-toggleable__control:checked~label.sk-toggleable__label-arrow:before {\n  content: \"▾\";\n}\n\n/* Pipeline/ColumnTransformer-specific style */\n\n#sk-container-id-2 div.sk-label input.sk-toggleable__control:checked~label.sk-toggleable__label {\n  color: var(--sklearn-color-text);\n  background-color: var(--sklearn-color-unfitted-level-2);\n}\n\n#sk-container-id-2 div.sk-label.fitted input.sk-toggleable__control:checked~label.sk-toggleable__label {\n  background-color: var(--sklearn-color-fitted-level-2);\n}\n\n/* Estimator-specific style */\n\n/* Colorize estimator box */\n#sk-container-id-2 div.sk-estimator input.sk-toggleable__control:checked~label.sk-toggleable__label {\n  /* unfitted */\n  background-color: var(--sklearn-color-unfitted-level-2);\n}\n\n#sk-container-id-2 div.sk-estimator.fitted input.sk-toggleable__control:checked~label.sk-toggleable__label {\n  /* fitted */\n  background-color: var(--sklearn-color-fitted-level-2);\n}\n\n#sk-container-id-2 div.sk-label label.sk-toggleable__label,\n#sk-container-id-2 div.sk-label label {\n  /* The background is the default theme color */\n  color: var(--sklearn-color-text-on-default-background);\n}\n\n/* On hover, darken the color of the background */\n#sk-container-id-2 div.sk-label:hover label.sk-toggleable__label {\n  color: var(--sklearn-color-text);\n  background-color: var(--sklearn-color-unfitted-level-2);\n}\n\n/* Label box, darken color on hover, fitted */\n#sk-container-id-2 div.sk-label.fitted:hover label.sk-toggleable__label.fitted {\n  color: var(--sklearn-color-text);\n  background-color: var(--sklearn-color-fitted-level-2);\n}\n\n/* Estimator label */\n\n#sk-container-id-2 div.sk-label label {\n  font-family: monospace;\n  font-weight: bold;\n  display: inline-block;\n  line-height: 1.2em;\n}\n\n#sk-container-id-2 div.sk-label-container {\n  text-align: center;\n}\n\n/* Estimator-specific */\n#sk-container-id-2 div.sk-estimator {\n  font-family: monospace;\n  border: 1px dotted var(--sklearn-color-border-box);\n  border-radius: 0.25em;\n  box-sizing: border-box;\n  margin-bottom: 0.5em;\n  /* unfitted */\n  background-color: var(--sklearn-color-unfitted-level-0);\n}\n\n#sk-container-id-2 div.sk-estimator.fitted {\n  /* fitted */\n  background-color: var(--sklearn-color-fitted-level-0);\n}\n\n/* on hover */\n#sk-container-id-2 div.sk-estimator:hover {\n  /* unfitted */\n  background-color: var(--sklearn-color-unfitted-level-2);\n}\n\n#sk-container-id-2 div.sk-estimator.fitted:hover {\n  /* fitted */\n  background-color: var(--sklearn-color-fitted-level-2);\n}\n\n/* Specification for estimator info (e.g. \"i\" and \"?\") */\n\n/* Common style for \"i\" and \"?\" */\n\n.sk-estimator-doc-link,\na:link.sk-estimator-doc-link,\na:visited.sk-estimator-doc-link {\n  float: right;\n  font-size: smaller;\n  line-height: 1em;\n  font-family: monospace;\n  background-color: var(--sklearn-color-background);\n  border-radius: 1em;\n  height: 1em;\n  width: 1em;\n  text-decoration: none !important;\n  margin-left: 1ex;\n  /* unfitted */\n  border: var(--sklearn-color-unfitted-level-1) 1pt solid;\n  color: var(--sklearn-color-unfitted-level-1);\n}\n\n.sk-estimator-doc-link.fitted,\na:link.sk-estimator-doc-link.fitted,\na:visited.sk-estimator-doc-link.fitted {\n  /* fitted */\n  border: var(--sklearn-color-fitted-level-1) 1pt solid;\n  color: var(--sklearn-color-fitted-level-1);\n}\n\n/* On hover */\ndiv.sk-estimator:hover .sk-estimator-doc-link:hover,\n.sk-estimator-doc-link:hover,\ndiv.sk-label-container:hover .sk-estimator-doc-link:hover,\n.sk-estimator-doc-link:hover {\n  /* unfitted */\n  background-color: var(--sklearn-color-unfitted-level-3);\n  color: var(--sklearn-color-background);\n  text-decoration: none;\n}\n\ndiv.sk-estimator.fitted:hover .sk-estimator-doc-link.fitted:hover,\n.sk-estimator-doc-link.fitted:hover,\ndiv.sk-label-container:hover .sk-estimator-doc-link.fitted:hover,\n.sk-estimator-doc-link.fitted:hover {\n  /* fitted */\n  background-color: var(--sklearn-color-fitted-level-3);\n  color: var(--sklearn-color-background);\n  text-decoration: none;\n}\n\n/* Span, style for the box shown on hovering the info icon */\n.sk-estimator-doc-link span {\n  display: none;\n  z-index: 9999;\n  position: relative;\n  font-weight: normal;\n  right: .2ex;\n  padding: .5ex;\n  margin: .5ex;\n  width: min-content;\n  min-width: 20ex;\n  max-width: 50ex;\n  color: var(--sklearn-color-text);\n  box-shadow: 2pt 2pt 4pt #999;\n  /* unfitted */\n  background: var(--sklearn-color-unfitted-level-0);\n  border: .5pt solid var(--sklearn-color-unfitted-level-3);\n}\n\n.sk-estimator-doc-link.fitted span {\n  /* fitted */\n  background: var(--sklearn-color-fitted-level-0);\n  border: var(--sklearn-color-fitted-level-3);\n}\n\n.sk-estimator-doc-link:hover span {\n  display: block;\n}\n\n/* \"?\"-specific style due to the `<a>` HTML tag */\n\n#sk-container-id-2 a.estimator_doc_link {\n  float: right;\n  font-size: 1rem;\n  line-height: 1em;\n  font-family: monospace;\n  background-color: var(--sklearn-color-background);\n  border-radius: 1rem;\n  height: 1rem;\n  width: 1rem;\n  text-decoration: none;\n  /* unfitted */\n  color: var(--sklearn-color-unfitted-level-1);\n  border: var(--sklearn-color-unfitted-level-1) 1pt solid;\n}\n\n#sk-container-id-2 a.estimator_doc_link.fitted {\n  /* fitted */\n  border: var(--sklearn-color-fitted-level-1) 1pt solid;\n  color: var(--sklearn-color-fitted-level-1);\n}\n\n/* On hover */\n#sk-container-id-2 a.estimator_doc_link:hover {\n  /* unfitted */\n  background-color: var(--sklearn-color-unfitted-level-3);\n  color: var(--sklearn-color-background);\n  text-decoration: none;\n}\n\n#sk-container-id-2 a.estimator_doc_link.fitted:hover {\n  /* fitted */\n  background-color: var(--sklearn-color-fitted-level-3);\n}\n</style><div id=\"sk-container-id-2\" class=\"sk-top-container\"><div class=\"sk-text-repr-fallback\"><pre>RandomForestClassifier(random_state=42)</pre><b>In a Jupyter environment, please rerun this cell to show the HTML representation or trust the notebook. <br />On GitHub, the HTML representation is unable to render, please try loading this page with nbviewer.org.</b></div><div class=\"sk-container\" hidden><div class=\"sk-item\"><div class=\"sk-estimator fitted sk-toggleable\"><input class=\"sk-toggleable__control sk-hidden--visually\" id=\"sk-estimator-id-2\" type=\"checkbox\" checked><label for=\"sk-estimator-id-2\" class=\"sk-toggleable__label fitted sk-toggleable__label-arrow fitted\">&nbsp;&nbsp;RandomForestClassifier<a class=\"sk-estimator-doc-link fitted\" rel=\"noreferrer\" target=\"_blank\" href=\"https://scikit-learn.org/1.5/modules/generated/sklearn.ensemble.RandomForestClassifier.html\">?<span>Documentation for RandomForestClassifier</span></a><span class=\"sk-estimator-doc-link fitted\">i<span>Fitted</span></span></label><div class=\"sk-toggleable__content fitted\"><pre>RandomForestClassifier(random_state=42)</pre></div> </div></div></div></div>"
     },
     "execution_count": 40,
     "metadata": {},
     "output_type": "execute_result"
    }
   ],
   "source": [
    "from sklearn.ensemble import RandomForestClassifier\n",
    "\n",
    "model = RandomForestClassifier(n_estimators=100, random_state=42)\n",
    "model.fit(X_train_vectorized, y_train)"
   ],
   "metadata": {
    "collapsed": false,
    "ExecuteTime": {
     "end_time": "2024-07-20T05:00:11.159455Z",
     "start_time": "2024-07-20T05:00:07.588120Z"
    }
   },
   "id": "a17b0eec136313a5",
   "execution_count": 40
  },
  {
   "cell_type": "markdown",
   "source": [
    "*14. Classifying SQL Queries*\n",
    "The categorize_sql function classifies SQL queries by type. A new column in the DataFrame is created with these categories, and the data is split again."
   ],
   "metadata": {
    "collapsed": false
   },
   "id": "8e8887d709d4287"
  },
  {
   "cell_type": "code",
   "outputs": [],
   "source": [
    "from sklearn.preprocessing import LabelEncoder\n",
    "\n",
    "def categorize_sql(query):\n",
    "    if 'SELECT' in query and 'WHERE' in query:\n",
    "        return 'SELECT_WITH_WHERE'\n",
    "    elif 'SELECT' in query:\n",
    "        return 'SELECT_ONLY'\n",
    "    else:\n",
    "        return 'OTHER'\n",
    "\n",
    "df['sql_category'] = df['sql_query'].apply(categorize_sql)\n",
    "\n",
    "le = LabelEncoder()\n",
    "y = le.fit_transform(df['sql_category'])\n",
    "\n",
    "X_train, X_test, y_train, y_test = train_test_split(X, y, test_size=0.2, random_state=42)"
   ],
   "metadata": {
    "collapsed": false,
    "ExecuteTime": {
     "end_time": "2024-07-20T05:00:11.201527Z",
     "start_time": "2024-07-20T05:00:11.136709Z"
    }
   },
   "id": "fbd21b469d68e664",
   "execution_count": 41
  },
  {
   "cell_type": "markdown",
   "source": [
    "*15. Training Neural Network*\n",
    "A neural network is created and trained using Keras. The model is trained on the vectorized data and used for more complex classification of queries."
   ],
   "metadata": {
    "collapsed": false
   },
   "id": "15d38a640b34e786"
  },
  {
   "cell_type": "code",
   "outputs": [
    {
     "name": "stdout",
     "output_type": "stream",
     "text": [
      "Epoch 1/10\n"
     ]
    },
    {
     "name": "stderr",
     "output_type": "stream",
     "text": [
      "/Users/a.getashvili/Documents/LLM_Digital_Person_AI/venv/lib/python3.10/site-packages/keras/src/layers/core/dense.py:87: UserWarning: Do not pass an `input_shape`/`input_dim` argument to a layer. When using Sequential models, prefer using an `Input(shape)` object as the first layer in the model instead.\n",
      "  super().__init__(activity_regularizer=activity_regularizer, **kwargs)\n"
     ]
    },
    {
     "name": "stdout",
     "output_type": "stream",
     "text": [
      "\u001B[1m20/20\u001B[0m \u001B[32m━━━━━━━━━━━━━━━━━━━━\u001B[0m\u001B[37m\u001B[0m \u001B[1m1s\u001B[0m 8ms/step - accuracy: 0.6705 - loss: 0.6668 - val_accuracy: 0.9937 - val_loss: 0.4993\n",
      "Epoch 2/10\n",
      "\u001B[1m20/20\u001B[0m \u001B[32m━━━━━━━━━━━━━━━━━━━━\u001B[0m\u001B[37m\u001B[0m \u001B[1m0s\u001B[0m 4ms/step - accuracy: 0.9633 - loss: 0.4466 - val_accuracy: 0.9937 - val_loss: 0.2070\n",
      "Epoch 3/10\n",
      "\u001B[1m20/20\u001B[0m \u001B[32m━━━━━━━━━━━━━━━━━━━━\u001B[0m\u001B[37m\u001B[0m \u001B[1m0s\u001B[0m 3ms/step - accuracy: 0.9733 - loss: 0.1928 - val_accuracy: 0.9937 - val_loss: 0.0621\n",
      "Epoch 4/10\n",
      "\u001B[1m20/20\u001B[0m \u001B[32m━━━━━━━━━━━━━━━━━━━━\u001B[0m\u001B[37m\u001B[0m \u001B[1m0s\u001B[0m 3ms/step - accuracy: 0.9615 - loss: 0.1384 - val_accuracy: 0.9937 - val_loss: 0.0441\n",
      "Epoch 5/10\n",
      "\u001B[1m20/20\u001B[0m \u001B[32m━━━━━━━━━━━━━━━━━━━━\u001B[0m\u001B[37m\u001B[0m \u001B[1m0s\u001B[0m 3ms/step - accuracy: 0.9718 - loss: 0.0900 - val_accuracy: 0.9937 - val_loss: 0.0439\n",
      "Epoch 6/10\n",
      "\u001B[1m20/20\u001B[0m \u001B[32m━━━━━━━━━━━━━━━━━━━━\u001B[0m\u001B[37m\u001B[0m \u001B[1m0s\u001B[0m 3ms/step - accuracy: 0.9674 - loss: 0.0882 - val_accuracy: 0.9937 - val_loss: 0.0444\n",
      "Epoch 7/10\n",
      "\u001B[1m20/20\u001B[0m \u001B[32m━━━━━━━━━━━━━━━━━━━━\u001B[0m\u001B[37m\u001B[0m \u001B[1m0s\u001B[0m 3ms/step - accuracy: 0.9718 - loss: 0.0775 - val_accuracy: 0.9937 - val_loss: 0.0429\n",
      "Epoch 8/10\n",
      "\u001B[1m20/20\u001B[0m \u001B[32m━━━━━━━━━━━━━━━━━━━━\u001B[0m\u001B[37m\u001B[0m \u001B[1m0s\u001B[0m 4ms/step - accuracy: 0.9551 - loss: 0.0860 - val_accuracy: 0.9937 - val_loss: 0.0412\n",
      "Epoch 9/10\n",
      "\u001B[1m20/20\u001B[0m \u001B[32m━━━━━━━━━━━━━━━━━━━━\u001B[0m\u001B[37m\u001B[0m \u001B[1m0s\u001B[0m 3ms/step - accuracy: 0.9692 - loss: 0.0553 - val_accuracy: 0.9937 - val_loss: 0.0396\n",
      "Epoch 10/10\n",
      "\u001B[1m20/20\u001B[0m \u001B[32m━━━━━━━━━━━━━━━━━━━━\u001B[0m\u001B[37m\u001B[0m \u001B[1m0s\u001B[0m 4ms/step - accuracy: 0.9741 - loss: 0.0503 - val_accuracy: 0.9937 - val_loss: 0.0389\n",
      "Epoch 1/10\n",
      "\u001B[1m20/20\u001B[0m \u001B[32m━━━━━━━━━━━━━━━━━━━━\u001B[0m\u001B[37m\u001B[0m \u001B[1m1s\u001B[0m 12ms/step - accuracy: 0.8868 - loss: 0.6163 - val_accuracy: 0.9937 - val_loss: 0.3733\n",
      "Epoch 2/10\n",
      "\u001B[1m20/20\u001B[0m \u001B[32m━━━━━━━━━━━━━━━━━━━━\u001B[0m\u001B[37m\u001B[0m \u001B[1m0s\u001B[0m 3ms/step - accuracy: 0.9716 - loss: 0.3142 - val_accuracy: 0.9937 - val_loss: 0.0925\n",
      "Epoch 3/10\n",
      "\u001B[1m20/20\u001B[0m \u001B[32m━━━━━━━━━━━━━━━━━━━━\u001B[0m\u001B[37m\u001B[0m \u001B[1m0s\u001B[0m 3ms/step - accuracy: 0.9554 - loss: 0.1609 - val_accuracy: 0.9937 - val_loss: 0.0457\n",
      "Epoch 4/10\n",
      "\u001B[1m20/20\u001B[0m \u001B[32m━━━━━━━━━━━━━━━━━━━━\u001B[0m\u001B[37m\u001B[0m \u001B[1m0s\u001B[0m 3ms/step - accuracy: 0.9672 - loss: 0.1193 - val_accuracy: 0.9937 - val_loss: 0.0435\n",
      "Epoch 5/10\n",
      "\u001B[1m20/20\u001B[0m \u001B[32m━━━━━━━━━━━━━━━━━━━━\u001B[0m\u001B[37m\u001B[0m \u001B[1m0s\u001B[0m 3ms/step - accuracy: 0.9608 - loss: 0.1133 - val_accuracy: 0.9937 - val_loss: 0.0444\n",
      "Epoch 6/10\n",
      "\u001B[1m20/20\u001B[0m \u001B[32m━━━━━━━━━━━━━━━━━━━━\u001B[0m\u001B[37m\u001B[0m \u001B[1m0s\u001B[0m 3ms/step - accuracy: 0.9734 - loss: 0.0651 - val_accuracy: 0.9937 - val_loss: 0.0421\n",
      "Epoch 7/10\n",
      "\u001B[1m20/20\u001B[0m \u001B[32m━━━━━━━━━━━━━━━━━━━━\u001B[0m\u001B[37m\u001B[0m \u001B[1m0s\u001B[0m 3ms/step - accuracy: 0.9749 - loss: 0.0554 - val_accuracy: 0.9937 - val_loss: 0.0407\n",
      "Epoch 8/10\n",
      "\u001B[1m20/20\u001B[0m \u001B[32m━━━━━━━━━━━━━━━━━━━━\u001B[0m\u001B[37m\u001B[0m \u001B[1m0s\u001B[0m 3ms/step - accuracy: 0.9664 - loss: 0.0623 - val_accuracy: 0.9937 - val_loss: 0.0405\n",
      "Epoch 9/10\n",
      "\u001B[1m20/20\u001B[0m \u001B[32m━━━━━━━━━━━━━━━━━━━━\u001B[0m\u001B[37m\u001B[0m \u001B[1m0s\u001B[0m 4ms/step - accuracy: 0.9777 - loss: 0.0439 - val_accuracy: 0.9937 - val_loss: 0.0391\n",
      "Epoch 10/10\n",
      "\u001B[1m20/20\u001B[0m \u001B[32m━━━━━━━━━━━━━━━━━━━━\u001B[0m\u001B[37m\u001B[0m \u001B[1m0s\u001B[0m 4ms/step - accuracy: 0.9680 - loss: 0.0441 - val_accuracy: 0.9937 - val_loss: 0.0378\n"
     ]
    },
    {
     "data": {
      "text/plain": "<keras.src.callbacks.history.History at 0x17f0671c0>"
     },
     "execution_count": 42,
     "metadata": {},
     "output_type": "execute_result"
    }
   ],
   "source": [
    "from keras.src.optimizers import Adam\n",
    "from keras.src.layers import Dense, Dropout\n",
    "from keras import Sequential\n",
    "\n",
    "num_classes = len(set(y))\n",
    "\n",
    "model = Sequential([\n",
    "    Dense(128, activation='relu', input_shape=(X_train_vectorized.shape[1],)),\n",
    "    Dropout(0.5),\n",
    "    Dense(64, activation='relu'),\n",
    "    Dropout(0.5),\n",
    "    Dense(num_classes, activation='softmax')\n",
    "])\n",
    "\n",
    "model.compile(optimizer=Adam(), loss='sparse_categorical_crossentropy', metrics=['accuracy'])\n",
    "\n",
    "X_train_dense = X_train_vectorized.toarray()\n",
    "X_test_dense = X_test_vectorized.toarray()\n",
    "\n",
    "model.fit(X_train_dense, y_train, epochs=10, batch_size=32, validation_split=0.2)\n",
    "\n",
    "num_classes = len(set(y))\n",
    "\n",
    "model = Sequential([\n",
    "    Dense(128, activation='relu', input_shape=(X_train_vectorized.shape[1],)),\n",
    "    Dropout(0.5),\n",
    "    Dense(64, activation='relu'),\n",
    "    Dropout(0.5),\n",
    "    Dense(num_classes, activation='softmax')\n",
    "])\n",
    "\n",
    "model.compile(optimizer=Adam(), loss='sparse_categorical_crossentropy', metrics=['accuracy'])\n",
    "\n",
    "X_train_dense = X_train_vectorized.toarray()\n",
    "X_test_dense = X_test_vectorized.toarray()\n",
    "\n",
    "model.fit(X_train_dense, y_train, epochs=10, batch_size=32, validation_split=0.2)"
   ],
   "metadata": {
    "collapsed": false,
    "ExecuteTime": {
     "end_time": "2024-07-20T05:00:31.477776Z",
     "start_time": "2024-07-20T05:00:28.292920Z"
    }
   },
   "id": "b3f949e1f670cd6",
   "execution_count": 42
  },
  {
   "cell_type": "markdown",
   "source": [
    "*16. Class Distribution*\n",
    "Class distribution in the training and testing sets is displayed after applying class weights. This helps understand how class imbalance might affect the model."
   ],
   "metadata": {
    "collapsed": false
   },
   "id": "f744afd038f1d105"
  },
  {
   "cell_type": "code",
   "outputs": [
    {
     "name": "stdout",
     "output_type": "stream",
     "text": [
      "Training class distribution:\n",
      "Class 0: 21 samples\n",
      "Class 1: 779 samples\n",
      "\n",
      "Testing class distribution:\n",
      "Class 0: 4 samples\n",
      "Class 1: 196 samples\n"
     ]
    }
   ],
   "source": [
    "import numpy as np\n",
    "\n",
    "train_class_counts = np.unique(y_train, return_counts=True)\n",
    "test_class_counts = np.unique(y_test, return_counts=True)\n",
    "\n",
    "print(\"Training class distribution:\")\n",
    "for cls, count in zip(train_class_counts[0], train_class_counts[1]):\n",
    "    print(f\"Class {cls}: {count} samples\")\n",
    "\n",
    "print(\"\\nTesting class distribution:\")\n",
    "for cls, count in zip(test_class_counts[0], test_class_counts[1]):\n",
    "    print(f\"Class {cls}: {count} samples\")\n"
   ],
   "metadata": {
    "collapsed": false,
    "ExecuteTime": {
     "end_time": "2024-07-20T05:00:35.820182Z",
     "start_time": "2024-07-20T05:00:35.783845Z"
    }
   },
   "id": "11eb73c429fbfc04",
   "execution_count": 43
  },
  {
   "cell_type": "markdown",
   "source": [
    "*17. Model Evaluation*\n",
    "The model is evaluated on the test set. Confusion matrix and classification report are printed to assess its performance and identify any weaknesses."
   ],
   "metadata": {
    "collapsed": false
   },
   "id": "e4011ccb9ab01567"
  },
  {
   "cell_type": "code",
   "outputs": [
    {
     "name": "stdout",
     "output_type": "stream",
     "text": [
      "Epoch 1/10\n",
      "\u001B[1m20/20\u001B[0m \u001B[32m━━━━━━━━━━━━━━━━━━━━\u001B[0m\u001B[37m\u001B[0m \u001B[1m0s\u001B[0m 4ms/step - accuracy: 0.9730 - loss: 0.6071 - val_accuracy: 0.9937 - val_loss: 0.0769\n",
      "Epoch 2/10\n",
      "\u001B[1m20/20\u001B[0m \u001B[32m━━━━━━━━━━━━━━━━━━━━\u001B[0m\u001B[37m\u001B[0m \u001B[1m0s\u001B[0m 3ms/step - accuracy: 0.9832 - loss: 0.3960 - val_accuracy: 0.9937 - val_loss: 0.1145\n",
      "Epoch 3/10\n",
      "\u001B[1m20/20\u001B[0m \u001B[32m━━━━━━━━━━━━━━━━━━━━\u001B[0m\u001B[37m\u001B[0m \u001B[1m0s\u001B[0m 4ms/step - accuracy: 0.9994 - loss: 0.3789 - val_accuracy: 0.9875 - val_loss: 0.1044\n",
      "Epoch 4/10\n",
      "\u001B[1m20/20\u001B[0m \u001B[32m━━━━━━━━━━━━━━━━━━━━\u001B[0m\u001B[37m\u001B[0m \u001B[1m0s\u001B[0m 3ms/step - accuracy: 1.0000 - loss: 0.2537 - val_accuracy: 0.9812 - val_loss: 0.0985\n",
      "Epoch 5/10\n",
      "\u001B[1m20/20\u001B[0m \u001B[32m━━━━━━━━━━━━━━━━━━━━\u001B[0m\u001B[37m\u001B[0m \u001B[1m0s\u001B[0m 5ms/step - accuracy: 1.0000 - loss: 0.1805 - val_accuracy: 0.9688 - val_loss: 0.1103\n",
      "Epoch 6/10\n",
      "\u001B[1m20/20\u001B[0m \u001B[32m━━━━━━━━━━━━━━━━━━━━\u001B[0m\u001B[37m\u001B[0m \u001B[1m0s\u001B[0m 6ms/step - accuracy: 1.0000 - loss: 0.1512 - val_accuracy: 0.9500 - val_loss: 0.1383\n",
      "Epoch 7/10\n",
      "\u001B[1m20/20\u001B[0m \u001B[32m━━━━━━━━━━━━━━━━━━━━\u001B[0m\u001B[37m\u001B[0m \u001B[1m0s\u001B[0m 4ms/step - accuracy: 1.0000 - loss: 0.0694 - val_accuracy: 0.9438 - val_loss: 0.1486\n",
      "Epoch 8/10\n",
      "\u001B[1m20/20\u001B[0m \u001B[32m━━━━━━━━━━━━━━━━━━━━\u001B[0m\u001B[37m\u001B[0m \u001B[1m0s\u001B[0m 4ms/step - accuracy: 1.0000 - loss: 0.0599 - val_accuracy: 0.9375 - val_loss: 0.1745\n",
      "Epoch 9/10\n",
      "\u001B[1m20/20\u001B[0m \u001B[32m━━━━━━━━━━━━━━━━━━━━\u001B[0m\u001B[37m\u001B[0m \u001B[1m0s\u001B[0m 4ms/step - accuracy: 1.0000 - loss: 0.0100 - val_accuracy: 0.9438 - val_loss: 0.1691\n",
      "Epoch 10/10\n",
      "\u001B[1m20/20\u001B[0m \u001B[32m━━━━━━━━━━━━━━━━━━━━\u001B[0m\u001B[37m\u001B[0m \u001B[1m0s\u001B[0m 4ms/step - accuracy: 1.0000 - loss: 0.0227 - val_accuracy: 0.9250 - val_loss: 0.1839\n",
      "\u001B[1m7/7\u001B[0m \u001B[32m━━━━━━━━━━━━━━━━━━━━\u001B[0m\u001B[37m\u001B[0m \u001B[1m0s\u001B[0m 5ms/step \n",
      "[[  3   1]\n",
      " [ 12 184]]\n",
      "                   precision    recall  f1-score   support\n",
      "\n",
      "      SELECT_ONLY       0.20      0.75      0.32         4\n",
      "SELECT_WITH_WHERE       0.99      0.94      0.97       196\n",
      "\n",
      "         accuracy                           0.94       200\n",
      "        macro avg       0.60      0.84      0.64       200\n",
      "     weighted avg       0.98      0.94      0.95       200\n"
     ]
    }
   ],
   "source": [
    "from sklearn.metrics import confusion_matrix\n",
    "from sklearn.utils.class_weight import compute_class_weight\n",
    "\n",
    "class_weights = compute_class_weight('balanced', classes=np.unique(y_train), y=y_train)\n",
    "class_weight_dict = dict(enumerate(class_weights))\n",
    "\n",
    "model.fit(X_train_dense, y_train, epochs=10, batch_size=32, validation_split=0.2, class_weight=class_weight_dict)\n",
    "\n",
    "predictions = model.predict(X_test_dense)\n",
    "predicted_categories = le.inverse_transform(predictions.argmax(axis=1))\n",
    "\n",
    "print(confusion_matrix(le.inverse_transform(y_test), predicted_categories))\n",
    "print(classification_report(le.inverse_transform(y_test), predicted_categories))"
   ],
   "metadata": {
    "collapsed": false,
    "ExecuteTime": {
     "end_time": "2024-07-20T05:00:40.119231Z",
     "start_time": "2024-07-20T05:00:38.706125Z"
    }
   },
   "id": "b75b33c804da9506",
   "execution_count": 44
  }
 ],
 "metadata": {
  "kernelspec": {
   "display_name": "Python 3",
   "language": "python",
   "name": "python3"
  },
  "language_info": {
   "codemirror_mode": {
    "name": "ipython",
    "version": 2
   },
   "file_extension": ".py",
   "mimetype": "text/x-python",
   "name": "python",
   "nbconvert_exporter": "python",
   "pygments_lexer": "ipython2",
   "version": "2.7.6"
  }
 },
 "nbformat": 4,
 "nbformat_minor": 5
}
